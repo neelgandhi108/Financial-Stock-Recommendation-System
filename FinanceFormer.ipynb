{
  "cells": [
    {
      "cell_type": "markdown",
      "id": "0be59730",
      "metadata": {
        "papermill": {
          "duration": 0.008912,
          "end_time": "2023-04-07T03:01:21.240199",
          "exception": false,
          "start_time": "2023-04-07T03:01:21.231287",
          "status": "completed"
        },
        "tags": [],
        "id": "0be59730"
      },
      "source": [
        "# FinanceFormer Transformer based Model for Investment Portfolio-Optimization\n",
        "\n",
        "In the field of quantitative finance, alpha and beta investment strategies are the two most common types of investment strategies. Imagine you are an investment fund manager and your current portfolio contains 300 stocks. You are faced with a decision-making scenario where you need to determine which of these 300 stocks are high-quality (with high relative returns), which you will continue to hold or increase your holdings in, and which of the lower relative return stocks you may consider selling.\n",
        "\n",
        "So, how do you make these predictions? Often, we can construct some leading indicators (or features), which can be considered as advance signals that the future stock prices will change, and are the basis for our future predictions. In this dataset, there are a total of 300 anonymous signals (features), and the problem to be predicted is the relative return size of different investment targets (investment_id) on each day (time_id). The evaluation metric is different from traditional regression prediction metrics, and uses Pearson correlation coefficient, where a higher value indicates a more accurate prediction of the relative return size of all investment targets in the entire investment portfolio.\n",
        "\n",
        "Before delving further, let's explore the data a bit."
      ]
    },
    {
      "cell_type": "code",
      "execution_count": null,
      "id": "19671a5d",
      "metadata": {
        "execution": {
          "iopub.execute_input": "2023-04-07T03:01:21.258135Z",
          "iopub.status.busy": "2023-04-07T03:01:21.257290Z",
          "iopub.status.idle": "2023-04-07T03:01:23.045553Z",
          "shell.execute_reply": "2023-04-07T03:01:23.044632Z"
        },
        "papermill": {
          "duration": 1.80025,
          "end_time": "2023-04-07T03:01:23.048264",
          "exception": false,
          "start_time": "2023-04-07T03:01:21.248014",
          "status": "completed"
        },
        "tags": [],
        "id": "19671a5d"
      },
      "outputs": [],
      "source": [
        "import pandas as pd\n",
        "import numpy as np\n",
        "\n",
        "import torch\n",
        "import torch.nn as nn\n",
        "import torch.nn.functional as F\n",
        "from torch.utils.data import DataLoader, Dataset\n",
        "\n",
        "import matplotlib.pyplot as plt\n",
        "%matplotlib inline\n",
        "\n",
        "import os\n",
        "\n",
        "import gc\n",
        "from pathlib import Path\n",
        "from tqdm import tqdm"
      ]
    },
    {
      "cell_type": "markdown",
      "id": "79f514ad",
      "metadata": {
        "papermill": {
          "duration": 0.007344,
          "end_time": "2023-04-07T03:01:23.063524",
          "exception": false,
          "start_time": "2023-04-07T03:01:23.056180",
          "status": "completed"
        },
        "tags": [],
        "id": "79f514ad"
      },
      "source": [
        "# EDA"
      ]
    },
    {
      "cell_type": "code",
      "execution_count": null,
      "id": "ace1027c",
      "metadata": {
        "execution": {
          "iopub.execute_input": "2023-04-07T03:01:23.080234Z",
          "iopub.status.busy": "2023-04-07T03:01:23.079772Z",
          "iopub.status.idle": "2023-04-07T03:01:32.549038Z",
          "shell.execute_reply": "2023-04-07T03:01:32.548044Z"
        },
        "papermill": {
          "duration": 9.480369,
          "end_time": "2023-04-07T03:01:32.551701",
          "exception": false,
          "start_time": "2023-04-07T03:01:23.071332",
          "status": "completed"
        },
        "tags": [],
        "id": "ace1027c"
      },
      "outputs": [],
      "source": [
        "train = pd.read_parquet(\"/content/data.parquet\")"
      ]
    },
    {
      "cell_type": "code",
      "execution_count": null,
      "id": "5ae463da",
      "metadata": {
        "execution": {
          "iopub.execute_input": "2023-04-07T03:01:32.569247Z",
          "iopub.status.busy": "2023-04-07T03:01:32.568485Z",
          "iopub.status.idle": "2023-04-07T03:01:32.596983Z",
          "shell.execute_reply": "2023-04-07T03:01:32.595973Z"
        },
        "papermill": {
          "duration": 0.039436,
          "end_time": "2023-04-07T03:01:32.599370",
          "exception": false,
          "start_time": "2023-04-07T03:01:32.559934",
          "status": "completed"
        },
        "tags": [],
        "colab": {
          "base_uri": "https://localhost:8080/",
          "height": 300
        },
        "id": "5ae463da",
        "outputId": "df974d94-3b65-471c-ffb6-6ac90af33356"
      },
      "outputs": [
        {
          "output_type": "execute_result",
          "data": {
            "text/plain": [
              "  row_id  time_id  investment_id    target       f_0       f_1       f_2  \\\n",
              "0   0_10        0             10 -0.260731 -1.863797  0.113691  1.573864   \n",
              "1   0_12        0             12 -0.469207  0.408954 -0.765238  0.261430   \n",
              "2   0_29        0             29 -0.867619 -1.342943 -2.271974  0.249359   \n",
              "3   0_31        0             31 -0.748334 -0.359627  0.239253  0.196136   \n",
              "4   0_34        0             34 -0.381478  0.669916 -0.890799  0.342481   \n",
              "\n",
              "        f_3       f_4       f_5  ...     f_290     f_291     f_292     f_293  \\\n",
              "0 -0.598433 -0.569936  0.398784  ...  0.821560  0.912726  0.476309 -1.220772   \n",
              "1 -0.591895 -0.037260  0.668721  ...  0.821560 -1.095620 -0.864354 -1.220772   \n",
              "2 -0.581436 -0.504053 -0.827677  ...  1.813485 -1.095620  0.316884 -1.220772   \n",
              "3 -0.540737 -0.260257  0.517623  ...  0.870077 -1.095620  0.831767 -1.220772   \n",
              "4 -0.594042 -0.367400 -0.236299  ... -0.170365  0.912726 -0.346847 -1.220772   \n",
              "\n",
              "      f_294     f_295     f_296     f_297     f_298     f_299  \n",
              "0  0.941183 -0.434315  1.296864  0.171329  1.051288 -0.745335  \n",
              "1 -1.060166 -0.300218  1.296864 -0.779556  0.274961 -0.182520  \n",
              "2 -1.060166 -0.483199  0.104928 -0.792373 -0.071179 -0.573232  \n",
              "3  0.941183 -0.250981 -1.087009 -1.088629 -1.584323  0.077664  \n",
              "4  0.941183 -0.356439  1.296864 -0.218136  0.793085 -0.420624  \n",
              "\n",
              "[5 rows x 304 columns]"
            ],
            "text/html": [
              "\n",
              "  <div id=\"df-6d1459de-0778-400a-8f50-4070657370ed\">\n",
              "    <div class=\"colab-df-container\">\n",
              "      <div>\n",
              "<style scoped>\n",
              "    .dataframe tbody tr th:only-of-type {\n",
              "        vertical-align: middle;\n",
              "    }\n",
              "\n",
              "    .dataframe tbody tr th {\n",
              "        vertical-align: top;\n",
              "    }\n",
              "\n",
              "    .dataframe thead th {\n",
              "        text-align: right;\n",
              "    }\n",
              "</style>\n",
              "<table border=\"1\" class=\"dataframe\">\n",
              "  <thead>\n",
              "    <tr style=\"text-align: right;\">\n",
              "      <th></th>\n",
              "      <th>row_id</th>\n",
              "      <th>time_id</th>\n",
              "      <th>investment_id</th>\n",
              "      <th>target</th>\n",
              "      <th>f_0</th>\n",
              "      <th>f_1</th>\n",
              "      <th>f_2</th>\n",
              "      <th>f_3</th>\n",
              "      <th>f_4</th>\n",
              "      <th>f_5</th>\n",
              "      <th>...</th>\n",
              "      <th>f_290</th>\n",
              "      <th>f_291</th>\n",
              "      <th>f_292</th>\n",
              "      <th>f_293</th>\n",
              "      <th>f_294</th>\n",
              "      <th>f_295</th>\n",
              "      <th>f_296</th>\n",
              "      <th>f_297</th>\n",
              "      <th>f_298</th>\n",
              "      <th>f_299</th>\n",
              "    </tr>\n",
              "  </thead>\n",
              "  <tbody>\n",
              "    <tr>\n",
              "      <th>0</th>\n",
              "      <td>0_10</td>\n",
              "      <td>0</td>\n",
              "      <td>10</td>\n",
              "      <td>-0.260731</td>\n",
              "      <td>-1.863797</td>\n",
              "      <td>0.113691</td>\n",
              "      <td>1.573864</td>\n",
              "      <td>-0.598433</td>\n",
              "      <td>-0.569936</td>\n",
              "      <td>0.398784</td>\n",
              "      <td>...</td>\n",
              "      <td>0.821560</td>\n",
              "      <td>0.912726</td>\n",
              "      <td>0.476309</td>\n",
              "      <td>-1.220772</td>\n",
              "      <td>0.941183</td>\n",
              "      <td>-0.434315</td>\n",
              "      <td>1.296864</td>\n",
              "      <td>0.171329</td>\n",
              "      <td>1.051288</td>\n",
              "      <td>-0.745335</td>\n",
              "    </tr>\n",
              "    <tr>\n",
              "      <th>1</th>\n",
              "      <td>0_12</td>\n",
              "      <td>0</td>\n",
              "      <td>12</td>\n",
              "      <td>-0.469207</td>\n",
              "      <td>0.408954</td>\n",
              "      <td>-0.765238</td>\n",
              "      <td>0.261430</td>\n",
              "      <td>-0.591895</td>\n",
              "      <td>-0.037260</td>\n",
              "      <td>0.668721</td>\n",
              "      <td>...</td>\n",
              "      <td>0.821560</td>\n",
              "      <td>-1.095620</td>\n",
              "      <td>-0.864354</td>\n",
              "      <td>-1.220772</td>\n",
              "      <td>-1.060166</td>\n",
              "      <td>-0.300218</td>\n",
              "      <td>1.296864</td>\n",
              "      <td>-0.779556</td>\n",
              "      <td>0.274961</td>\n",
              "      <td>-0.182520</td>\n",
              "    </tr>\n",
              "    <tr>\n",
              "      <th>2</th>\n",
              "      <td>0_29</td>\n",
              "      <td>0</td>\n",
              "      <td>29</td>\n",
              "      <td>-0.867619</td>\n",
              "      <td>-1.342943</td>\n",
              "      <td>-2.271974</td>\n",
              "      <td>0.249359</td>\n",
              "      <td>-0.581436</td>\n",
              "      <td>-0.504053</td>\n",
              "      <td>-0.827677</td>\n",
              "      <td>...</td>\n",
              "      <td>1.813485</td>\n",
              "      <td>-1.095620</td>\n",
              "      <td>0.316884</td>\n",
              "      <td>-1.220772</td>\n",
              "      <td>-1.060166</td>\n",
              "      <td>-0.483199</td>\n",
              "      <td>0.104928</td>\n",
              "      <td>-0.792373</td>\n",
              "      <td>-0.071179</td>\n",
              "      <td>-0.573232</td>\n",
              "    </tr>\n",
              "    <tr>\n",
              "      <th>3</th>\n",
              "      <td>0_31</td>\n",
              "      <td>0</td>\n",
              "      <td>31</td>\n",
              "      <td>-0.748334</td>\n",
              "      <td>-0.359627</td>\n",
              "      <td>0.239253</td>\n",
              "      <td>0.196136</td>\n",
              "      <td>-0.540737</td>\n",
              "      <td>-0.260257</td>\n",
              "      <td>0.517623</td>\n",
              "      <td>...</td>\n",
              "      <td>0.870077</td>\n",
              "      <td>-1.095620</td>\n",
              "      <td>0.831767</td>\n",
              "      <td>-1.220772</td>\n",
              "      <td>0.941183</td>\n",
              "      <td>-0.250981</td>\n",
              "      <td>-1.087009</td>\n",
              "      <td>-1.088629</td>\n",
              "      <td>-1.584323</td>\n",
              "      <td>0.077664</td>\n",
              "    </tr>\n",
              "    <tr>\n",
              "      <th>4</th>\n",
              "      <td>0_34</td>\n",
              "      <td>0</td>\n",
              "      <td>34</td>\n",
              "      <td>-0.381478</td>\n",
              "      <td>0.669916</td>\n",
              "      <td>-0.890799</td>\n",
              "      <td>0.342481</td>\n",
              "      <td>-0.594042</td>\n",
              "      <td>-0.367400</td>\n",
              "      <td>-0.236299</td>\n",
              "      <td>...</td>\n",
              "      <td>-0.170365</td>\n",
              "      <td>0.912726</td>\n",
              "      <td>-0.346847</td>\n",
              "      <td>-1.220772</td>\n",
              "      <td>0.941183</td>\n",
              "      <td>-0.356439</td>\n",
              "      <td>1.296864</td>\n",
              "      <td>-0.218136</td>\n",
              "      <td>0.793085</td>\n",
              "      <td>-0.420624</td>\n",
              "    </tr>\n",
              "  </tbody>\n",
              "</table>\n",
              "<p>5 rows × 304 columns</p>\n",
              "</div>\n",
              "      <button class=\"colab-df-convert\" onclick=\"convertToInteractive('df-6d1459de-0778-400a-8f50-4070657370ed')\"\n",
              "              title=\"Convert this dataframe to an interactive table.\"\n",
              "              style=\"display:none;\">\n",
              "        \n",
              "  <svg xmlns=\"http://www.w3.org/2000/svg\" height=\"24px\"viewBox=\"0 0 24 24\"\n",
              "       width=\"24px\">\n",
              "    <path d=\"M0 0h24v24H0V0z\" fill=\"none\"/>\n",
              "    <path d=\"M18.56 5.44l.94 2.06.94-2.06 2.06-.94-2.06-.94-.94-2.06-.94 2.06-2.06.94zm-11 1L8.5 8.5l.94-2.06 2.06-.94-2.06-.94L8.5 2.5l-.94 2.06-2.06.94zm10 10l.94 2.06.94-2.06 2.06-.94-2.06-.94-.94-2.06-.94 2.06-2.06.94z\"/><path d=\"M17.41 7.96l-1.37-1.37c-.4-.4-.92-.59-1.43-.59-.52 0-1.04.2-1.43.59L10.3 9.45l-7.72 7.72c-.78.78-.78 2.05 0 2.83L4 21.41c.39.39.9.59 1.41.59.51 0 1.02-.2 1.41-.59l7.78-7.78 2.81-2.81c.8-.78.8-2.07 0-2.86zM5.41 20L4 18.59l7.72-7.72 1.47 1.35L5.41 20z\"/>\n",
              "  </svg>\n",
              "      </button>\n",
              "      \n",
              "  <style>\n",
              "    .colab-df-container {\n",
              "      display:flex;\n",
              "      flex-wrap:wrap;\n",
              "      gap: 12px;\n",
              "    }\n",
              "\n",
              "    .colab-df-convert {\n",
              "      background-color: #E8F0FE;\n",
              "      border: none;\n",
              "      border-radius: 50%;\n",
              "      cursor: pointer;\n",
              "      display: none;\n",
              "      fill: #1967D2;\n",
              "      height: 32px;\n",
              "      padding: 0 0 0 0;\n",
              "      width: 32px;\n",
              "    }\n",
              "\n",
              "    .colab-df-convert:hover {\n",
              "      background-color: #E2EBFA;\n",
              "      box-shadow: 0px 1px 2px rgba(60, 64, 67, 0.3), 0px 1px 3px 1px rgba(60, 64, 67, 0.15);\n",
              "      fill: #174EA6;\n",
              "    }\n",
              "\n",
              "    [theme=dark] .colab-df-convert {\n",
              "      background-color: #3B4455;\n",
              "      fill: #D2E3FC;\n",
              "    }\n",
              "\n",
              "    [theme=dark] .colab-df-convert:hover {\n",
              "      background-color: #434B5C;\n",
              "      box-shadow: 0px 1px 3px 1px rgba(0, 0, 0, 0.15);\n",
              "      filter: drop-shadow(0px 1px 2px rgba(0, 0, 0, 0.3));\n",
              "      fill: #FFFFFF;\n",
              "    }\n",
              "  </style>\n",
              "\n",
              "      <script>\n",
              "        const buttonEl =\n",
              "          document.querySelector('#df-6d1459de-0778-400a-8f50-4070657370ed button.colab-df-convert');\n",
              "        buttonEl.style.display =\n",
              "          google.colab.kernel.accessAllowed ? 'block' : 'none';\n",
              "\n",
              "        async function convertToInteractive(key) {\n",
              "          const element = document.querySelector('#df-6d1459de-0778-400a-8f50-4070657370ed');\n",
              "          const dataTable =\n",
              "            await google.colab.kernel.invokeFunction('convertToInteractive',\n",
              "                                                     [key], {});\n",
              "          if (!dataTable) return;\n",
              "\n",
              "          const docLinkHtml = 'Like what you see? Visit the ' +\n",
              "            '<a target=\"_blank\" href=https://colab.research.google.com/notebooks/data_table.ipynb>data table notebook</a>'\n",
              "            + ' to learn more about interactive tables.';\n",
              "          element.innerHTML = '';\n",
              "          dataTable['output_type'] = 'display_data';\n",
              "          await google.colab.output.renderOutput(dataTable, element);\n",
              "          const docLink = document.createElement('div');\n",
              "          docLink.innerHTML = docLinkHtml;\n",
              "          element.appendChild(docLink);\n",
              "        }\n",
              "      </script>\n",
              "    </div>\n",
              "  </div>\n",
              "  "
            ]
          },
          "metadata": {},
          "execution_count": 6
        }
      ],
      "source": [
        "train.head()"
      ]
    },
    {
      "cell_type": "code",
      "execution_count": null,
      "id": "6b6b2f1e",
      "metadata": {
        "execution": {
          "iopub.execute_input": "2023-04-07T03:01:32.617907Z",
          "iopub.status.busy": "2023-04-07T03:01:32.617408Z",
          "iopub.status.idle": "2023-04-07T03:01:32.625982Z",
          "shell.execute_reply": "2023-04-07T03:01:32.624744Z"
        },
        "papermill": {
          "duration": 0.031,
          "end_time": "2023-04-07T03:01:32.638348",
          "exception": false,
          "start_time": "2023-04-07T03:01:32.607348",
          "status": "completed"
        },
        "tags": [],
        "colab": {
          "base_uri": "https://localhost:8080/"
        },
        "id": "6b6b2f1e",
        "outputId": "cc60fb4c-35f2-4022-8664-42f3b569af70"
      },
      "outputs": [
        {
          "output_type": "execute_result",
          "data": {
            "text/plain": [
              "(566236, 304)"
            ]
          },
          "metadata": {},
          "execution_count": 7
        }
      ],
      "source": [
        "train.shape"
      ]
    },
    {
      "cell_type": "code",
      "execution_count": null,
      "id": "af62fffe",
      "metadata": {
        "execution": {
          "iopub.execute_input": "2023-04-07T03:01:32.664114Z",
          "iopub.status.busy": "2023-04-07T03:01:32.663774Z",
          "iopub.status.idle": "2023-04-07T03:01:32.677317Z",
          "shell.execute_reply": "2023-04-07T03:01:32.676347Z"
        },
        "papermill": {
          "duration": 0.024872,
          "end_time": "2023-04-07T03:01:32.679228",
          "exception": false,
          "start_time": "2023-04-07T03:01:32.654356",
          "status": "completed"
        },
        "tags": [],
        "colab": {
          "base_uri": "https://localhost:8080/"
        },
        "id": "af62fffe",
        "outputId": "1473f73c-1af2-409b-9a95-e2a83c1bb17b"
      },
      "outputs": [
        {
          "output_type": "execute_result",
          "data": {
            "text/plain": [
              "488"
            ]
          },
          "metadata": {},
          "execution_count": 8
        }
      ],
      "source": [
        "# Number of investment targets\n",
        "train.investment_id.nunique()"
      ]
    },
    {
      "cell_type": "code",
      "execution_count": null,
      "id": "0414bd2c",
      "metadata": {
        "execution": {
          "iopub.execute_input": "2023-04-07T03:01:32.696704Z",
          "iopub.status.busy": "2023-04-07T03:01:32.696420Z",
          "iopub.status.idle": "2023-04-07T03:01:32.749647Z",
          "shell.execute_reply": "2023-04-07T03:01:32.748589Z"
        },
        "papermill": {
          "duration": 0.067809,
          "end_time": "2023-04-07T03:01:32.755349",
          "exception": false,
          "start_time": "2023-04-07T03:01:32.687540",
          "status": "completed"
        },
        "tags": [],
        "colab": {
          "base_uri": "https://localhost:8080/",
          "height": 300
        },
        "id": "0414bd2c",
        "outputId": "2ec15c94-0f67-4821-c974-e5307887d03e"
      },
      "outputs": [
        {
          "output_type": "execute_result",
          "data": {
            "text/plain": [
              "         min     max        count\n",
              "count  488.0   488.0   488.000000\n",
              "mean     0.0  1219.0  1160.319672\n",
              "std      0.0     0.0    28.063149\n",
              "min      0.0  1219.0  1101.000000\n",
              "25%      0.0  1219.0  1139.000000\n",
              "50%      0.0  1219.0  1164.000000\n",
              "75%      0.0  1219.0  1182.000000\n",
              "max      0.0  1219.0  1211.000000"
            ],
            "text/html": [
              "\n",
              "  <div id=\"df-0b5be22a-da05-47ab-b9d5-8ba4b98fe36b\">\n",
              "    <div class=\"colab-df-container\">\n",
              "      <div>\n",
              "<style scoped>\n",
              "    .dataframe tbody tr th:only-of-type {\n",
              "        vertical-align: middle;\n",
              "    }\n",
              "\n",
              "    .dataframe tbody tr th {\n",
              "        vertical-align: top;\n",
              "    }\n",
              "\n",
              "    .dataframe thead th {\n",
              "        text-align: right;\n",
              "    }\n",
              "</style>\n",
              "<table border=\"1\" class=\"dataframe\">\n",
              "  <thead>\n",
              "    <tr style=\"text-align: right;\">\n",
              "      <th></th>\n",
              "      <th>min</th>\n",
              "      <th>max</th>\n",
              "      <th>count</th>\n",
              "    </tr>\n",
              "  </thead>\n",
              "  <tbody>\n",
              "    <tr>\n",
              "      <th>count</th>\n",
              "      <td>488.0</td>\n",
              "      <td>488.0</td>\n",
              "      <td>488.000000</td>\n",
              "    </tr>\n",
              "    <tr>\n",
              "      <th>mean</th>\n",
              "      <td>0.0</td>\n",
              "      <td>1219.0</td>\n",
              "      <td>1160.319672</td>\n",
              "    </tr>\n",
              "    <tr>\n",
              "      <th>std</th>\n",
              "      <td>0.0</td>\n",
              "      <td>0.0</td>\n",
              "      <td>28.063149</td>\n",
              "    </tr>\n",
              "    <tr>\n",
              "      <th>min</th>\n",
              "      <td>0.0</td>\n",
              "      <td>1219.0</td>\n",
              "      <td>1101.000000</td>\n",
              "    </tr>\n",
              "    <tr>\n",
              "      <th>25%</th>\n",
              "      <td>0.0</td>\n",
              "      <td>1219.0</td>\n",
              "      <td>1139.000000</td>\n",
              "    </tr>\n",
              "    <tr>\n",
              "      <th>50%</th>\n",
              "      <td>0.0</td>\n",
              "      <td>1219.0</td>\n",
              "      <td>1164.000000</td>\n",
              "    </tr>\n",
              "    <tr>\n",
              "      <th>75%</th>\n",
              "      <td>0.0</td>\n",
              "      <td>1219.0</td>\n",
              "      <td>1182.000000</td>\n",
              "    </tr>\n",
              "    <tr>\n",
              "      <th>max</th>\n",
              "      <td>0.0</td>\n",
              "      <td>1219.0</td>\n",
              "      <td>1211.000000</td>\n",
              "    </tr>\n",
              "  </tbody>\n",
              "</table>\n",
              "</div>\n",
              "      <button class=\"colab-df-convert\" onclick=\"convertToInteractive('df-0b5be22a-da05-47ab-b9d5-8ba4b98fe36b')\"\n",
              "              title=\"Convert this dataframe to an interactive table.\"\n",
              "              style=\"display:none;\">\n",
              "        \n",
              "  <svg xmlns=\"http://www.w3.org/2000/svg\" height=\"24px\"viewBox=\"0 0 24 24\"\n",
              "       width=\"24px\">\n",
              "    <path d=\"M0 0h24v24H0V0z\" fill=\"none\"/>\n",
              "    <path d=\"M18.56 5.44l.94 2.06.94-2.06 2.06-.94-2.06-.94-.94-2.06-.94 2.06-2.06.94zm-11 1L8.5 8.5l.94-2.06 2.06-.94-2.06-.94L8.5 2.5l-.94 2.06-2.06.94zm10 10l.94 2.06.94-2.06 2.06-.94-2.06-.94-.94-2.06-.94 2.06-2.06.94z\"/><path d=\"M17.41 7.96l-1.37-1.37c-.4-.4-.92-.59-1.43-.59-.52 0-1.04.2-1.43.59L10.3 9.45l-7.72 7.72c-.78.78-.78 2.05 0 2.83L4 21.41c.39.39.9.59 1.41.59.51 0 1.02-.2 1.41-.59l7.78-7.78 2.81-2.81c.8-.78.8-2.07 0-2.86zM5.41 20L4 18.59l7.72-7.72 1.47 1.35L5.41 20z\"/>\n",
              "  </svg>\n",
              "      </button>\n",
              "      \n",
              "  <style>\n",
              "    .colab-df-container {\n",
              "      display:flex;\n",
              "      flex-wrap:wrap;\n",
              "      gap: 12px;\n",
              "    }\n",
              "\n",
              "    .colab-df-convert {\n",
              "      background-color: #E8F0FE;\n",
              "      border: none;\n",
              "      border-radius: 50%;\n",
              "      cursor: pointer;\n",
              "      display: none;\n",
              "      fill: #1967D2;\n",
              "      height: 32px;\n",
              "      padding: 0 0 0 0;\n",
              "      width: 32px;\n",
              "    }\n",
              "\n",
              "    .colab-df-convert:hover {\n",
              "      background-color: #E2EBFA;\n",
              "      box-shadow: 0px 1px 2px rgba(60, 64, 67, 0.3), 0px 1px 3px 1px rgba(60, 64, 67, 0.15);\n",
              "      fill: #174EA6;\n",
              "    }\n",
              "\n",
              "    [theme=dark] .colab-df-convert {\n",
              "      background-color: #3B4455;\n",
              "      fill: #D2E3FC;\n",
              "    }\n",
              "\n",
              "    [theme=dark] .colab-df-convert:hover {\n",
              "      background-color: #434B5C;\n",
              "      box-shadow: 0px 1px 3px 1px rgba(0, 0, 0, 0.15);\n",
              "      filter: drop-shadow(0px 1px 2px rgba(0, 0, 0, 0.3));\n",
              "      fill: #FFFFFF;\n",
              "    }\n",
              "  </style>\n",
              "\n",
              "      <script>\n",
              "        const buttonEl =\n",
              "          document.querySelector('#df-0b5be22a-da05-47ab-b9d5-8ba4b98fe36b button.colab-df-convert');\n",
              "        buttonEl.style.display =\n",
              "          google.colab.kernel.accessAllowed ? 'block' : 'none';\n",
              "\n",
              "        async function convertToInteractive(key) {\n",
              "          const element = document.querySelector('#df-0b5be22a-da05-47ab-b9d5-8ba4b98fe36b');\n",
              "          const dataTable =\n",
              "            await google.colab.kernel.invokeFunction('convertToInteractive',\n",
              "                                                     [key], {});\n",
              "          if (!dataTable) return;\n",
              "\n",
              "          const docLinkHtml = 'Like what you see? Visit the ' +\n",
              "            '<a target=\"_blank\" href=https://colab.research.google.com/notebooks/data_table.ipynb>data table notebook</a>'\n",
              "            + ' to learn more about interactive tables.';\n",
              "          element.innerHTML = '';\n",
              "          dataTable['output_type'] = 'display_data';\n",
              "          await google.colab.output.renderOutput(dataTable, element);\n",
              "          const docLink = document.createElement('div');\n",
              "          docLink.innerHTML = docLinkHtml;\n",
              "          element.appendChild(docLink);\n",
              "        }\n",
              "      </script>\n",
              "    </div>\n",
              "  </div>\n",
              "  "
            ]
          },
          "metadata": {},
          "execution_count": 9
        }
      ],
      "source": [
        "# Time span of investment\n",
        "\n",
        "train.groupby(\"investment_id\")['time_id'].agg(['min', 'max', 'count']).describe()"
      ]
    },
    {
      "cell_type": "markdown",
      "source": [
        "The timestamp ranges from 0 to 1219, but there are some missing values, which may be non-trading days."
      ],
      "metadata": {
        "id": "l-zsXhsQ2dju"
      },
      "id": "l-zsXhsQ2dju"
    },
    {
      "cell_type": "code",
      "execution_count": null,
      "id": "d9b8e13a",
      "metadata": {
        "execution": {
          "iopub.execute_input": "2023-04-07T03:01:32.799626Z",
          "iopub.status.busy": "2023-04-07T03:01:32.798771Z",
          "iopub.status.idle": "2023-04-07T03:01:33.225739Z",
          "shell.execute_reply": "2023-04-07T03:01:33.224809Z"
        },
        "papermill": {
          "duration": 0.438139,
          "end_time": "2023-04-07T03:01:33.227738",
          "exception": false,
          "start_time": "2023-04-07T03:01:32.789599",
          "status": "completed"
        },
        "tags": [],
        "colab": {
          "base_uri": "https://localhost:8080/",
          "height": 430
        },
        "id": "d9b8e13a",
        "outputId": "a4e099b2-7d1e-40f3-e9c6-a4b3b6298939"
      },
      "outputs": [
        {
          "output_type": "display_data",
          "data": {
            "text/plain": [
              "<Figure size 640x480 with 1 Axes>"
            ],
            "image/png": "[encoded data removed]"
          },
          "metadata": {}
        }
      ],
      "source": [
        "_ = plt.hist(train.target, 100)"
      ]
    },
    {
      "cell_type": "markdown",
      "source": [
        "The target distribution is very normal (i.e., normally distributed)"
      ],
      "metadata": {
        "id": "OelynbJy2oTR"
      },
      "id": "OelynbJy2oTR"
    },
    {
      "cell_type": "code",
      "execution_count": null,
      "id": "a682af9c",
      "metadata": {
        "execution": {
          "iopub.execute_input": "2023-04-07T03:01:33.272150Z",
          "iopub.status.busy": "2023-04-07T03:01:33.270730Z",
          "iopub.status.idle": "2023-04-07T03:01:33.816241Z",
          "shell.execute_reply": "2023-04-07T03:01:33.815033Z"
        },
        "papermill": {
          "duration": 0.557145,
          "end_time": "2023-04-07T03:01:33.818761",
          "exception": false,
          "start_time": "2023-04-07T03:01:33.261616",
          "status": "completed"
        },
        "tags": [],
        "colab": {
          "base_uri": "https://localhost:8080/"
        },
        "id": "a682af9c",
        "outputId": "3e1f46dd-1837-4c14-fa4e-5cfc7150ac59"
      },
      "outputs": [
        {
          "output_type": "execute_result",
          "data": {
            "text/plain": [
              "count    300.000000\n",
              "mean      -0.043781\n",
              "std        0.150849\n",
              "min       -0.503176\n",
              "25%       -0.164330\n",
              "50%       -0.010530\n",
              "75%        0.021321\n",
              "max        0.477960\n",
              "dtype: float64"
            ]
          },
          "metadata": {},
          "execution_count": 11
        }
      ],
      "source": [
        "feat_cols = [f'f_{i}' for i in range(300)]\n",
        "\n",
        "train[feat_cols].mean().describe()"
      ]
    },
    {
      "cell_type": "markdown",
      "source": [
        " The mean of the features is distributed between -0.5 and 0.5. Some processing may have been done before, so let's check the min/max values."
      ],
      "metadata": {
        "id": "HupLBiX3208e"
      },
      "id": "HupLBiX3208e"
    },
    {
      "cell_type": "code",
      "execution_count": null,
      "id": "7b9c2c38",
      "metadata": {
        "execution": {
          "iopub.execute_input": "2023-04-07T03:01:33.841973Z",
          "iopub.status.busy": "2023-04-07T03:01:33.840766Z",
          "iopub.status.idle": "2023-04-07T03:01:34.665040Z",
          "shell.execute_reply": "2023-04-07T03:01:34.663990Z"
        },
        "papermill": {
          "duration": 0.838117,
          "end_time": "2023-04-07T03:01:34.667699",
          "exception": false,
          "start_time": "2023-04-07T03:01:33.829582",
          "status": "completed"
        },
        "tags": [],
        "colab": {
          "base_uri": "https://localhost:8080/",
          "height": 430
        },
        "id": "7b9c2c38",
        "outputId": "ae8fffb7-00e8-4367-bc13-11e3e080dc00"
      },
      "outputs": [
        {
          "output_type": "display_data",
          "data": {
            "text/plain": [
              "<Figure size 640x480 with 1 Axes>"
            ],
            "image/png": "[encoded data removed]"
          },
          "metadata": {}
        }
      ],
      "source": [
        "\n",
        "_ = plt.hist(train[feat_cols].min().describe(), 20)"
      ]
    },
    {
      "cell_type": "code",
      "execution_count": null,
      "id": "6bc2e142",
      "metadata": {
        "execution": {
          "iopub.execute_input": "2023-04-07T03:01:34.690246Z",
          "iopub.status.busy": "2023-04-07T03:01:34.689914Z",
          "iopub.status.idle": "2023-04-07T03:01:35.432529Z",
          "shell.execute_reply": "2023-04-07T03:01:35.431597Z"
        },
        "papermill": {
          "duration": 0.756239,
          "end_time": "2023-04-07T03:01:35.434845",
          "exception": false,
          "start_time": "2023-04-07T03:01:34.678606",
          "status": "completed"
        },
        "tags": [],
        "colab": {
          "base_uri": "https://localhost:8080/",
          "height": 430
        },
        "id": "6bc2e142",
        "outputId": "a86cf5dc-ed2d-4232-c84d-70f205ca925c"
      },
      "outputs": [
        {
          "output_type": "display_data",
          "data": {
            "text/plain": [
              "<Figure size 640x480 with 1 Axes>"
            ],
            "image/png": "[encoded data removed]"
          },
          "metadata": {}
        }
      ],
      "source": [
        "_ = plt.hist(train[feat_cols].max(), 20)"
      ]
    },
    {
      "cell_type": "code",
      "execution_count": null,
      "id": "3677046b",
      "metadata": {
        "execution": {
          "iopub.execute_input": "2023-04-07T03:01:35.454373Z",
          "iopub.status.busy": "2023-04-07T03:01:35.454035Z",
          "iopub.status.idle": "2023-04-07T03:01:35.458452Z",
          "shell.execute_reply": "2023-04-07T03:01:35.457400Z"
        },
        "papermill": {
          "duration": 0.01635,
          "end_time": "2023-04-07T03:01:35.460613",
          "exception": false,
          "start_time": "2023-04-07T03:01:35.444263",
          "status": "completed"
        },
        "tags": [],
        "id": "3677046b"
      },
      "outputs": [],
      "source": [
        "# The distribution of min/max values is also relatively concentrated"
      ]
    },
    {
      "cell_type": "markdown",
      "source": [
        "View the distribution of 16 features randomly.\n",
        "\n",
        "Create a 4x4 grid of subplots with a total size of 16x16. For each subplot, randomly select a feature from the first 300 features (the feature names start with 'f_'), plot its histogram using 100 bins, and set the subplot title to the name of the feature. The purpose of this code may be to explore the distributions of some features in the \"train\" dataset and gain insights into their characteristic"
      ],
      "metadata": {
        "id": "IRYVmZZl3HL2"
      },
      "id": "IRYVmZZl3HL2"
    },
    {
      "cell_type": "code",
      "execution_count": null,
      "id": "19bc4706",
      "metadata": {
        "execution": {
          "iopub.execute_input": "2023-04-07T03:01:35.480026Z",
          "iopub.status.busy": "2023-04-07T03:01:35.479727Z",
          "iopub.status.idle": "2023-04-07T03:01:39.515972Z",
          "shell.execute_reply": "2023-04-07T03:01:39.515033Z"
        },
        "papermill": {
          "duration": 4.048789,
          "end_time": "2023-04-07T03:01:39.518546",
          "exception": false,
          "start_time": "2023-04-07T03:01:35.469757",
          "status": "completed"
        },
        "tags": [],
        "colab": {
          "base_uri": "https://localhost:8080/",
          "height": 755
        },
        "id": "19bc4706",
        "outputId": "c751ea09-cd27-4249-8f6a-cce3f5ad0297"
      },
      "outputs": [
        {
          "output_type": "display_data",
          "data": {
            "text/plain": [
              "<Figure size 1600x1600 with 16 Axes>"
            ],
            "image/png": "[encoded data removed]"
          },
          "metadata": {}
        }
      ],
      "source": [
        "f, ax = plt.subplots(4,4,figsize=(16,16))\n",
        "\n",
        "for i in range(4):\n",
        "    for j in range(4):\n",
        "        col = f'f_{np.random.randint(0, 300)}'\n",
        "        ax[i][j].hist(train[col], 100)\n",
        "        ax[i][j].set_title(col)"
      ]
    },
    {
      "cell_type": "markdown",
      "id": "cf8b9ecb",
      "metadata": {
        "papermill": {
          "duration": 0.009447,
          "end_time": "2023-04-07T03:01:39.539383",
          "exception": false,
          "start_time": "2023-04-07T03:01:39.529936",
          "status": "completed"
        },
        "tags": [],
        "id": "cf8b9ecb"
      },
      "source": [
        "# FinanceFormer Trainsformer\n",
        "\n",
        "The features are the 300 features of each investment at each time step, and the target is the relative return of the investment.\n",
        "\n",
        "We have four modeling paradigms:\n",
        "\n",
        "Considering the current features of a single investment at a time, the input information is the 300 features. This modeling method is simple, but since our target is essentially a ranking, it is difficult to predict the ranking of returns if only considering a single investment.\n",
        "\n",
        "The model considers all investments at the current time step while predicting the target. Transformer is very suitable for this scenario, as self-attention will calculate the relationships between all investments. Since there is no time series problem, position embedding is not needed.\n",
        "\n",
        "The model considers the historical feature sequence of each investment, which models the trend and volatility of the investment. RNN/Seq2Seq/Transformer can be used for this modeling method.\n",
        "\n",
        "Considering both time series and investments simultaneously, a feasible modeling method is to encode each investment input with an RNN, and then use the approach in method 2 for modeling.\n",
        "\n",
        "Here, we will use method 2 for modeling. First, we will analyze the data briefly."
      ]
    },
    {
      "cell_type": "markdown",
      "id": "44caa1a5",
      "metadata": {
        "papermill": {
          "duration": 0.009415,
          "end_time": "2023-04-07T03:01:39.558295",
          "exception": false,
          "start_time": "2023-04-07T03:01:39.548880",
          "status": "completed"
        },
        "tags": [],
        "id": "44caa1a5"
      },
      "source": [
        "# Data Preparation\n",
        "First, we fill in the missing time for investment_id."
      ]
    },
    {
      "cell_type": "code",
      "execution_count": null,
      "id": "d5c9328f",
      "metadata": {
        "execution": {
          "iopub.execute_input": "2023-04-07T03:01:39.578751Z",
          "iopub.status.busy": "2023-04-07T03:01:39.578442Z",
          "iopub.status.idle": "2023-04-07T03:01:39.582904Z",
          "shell.execute_reply": "2023-04-07T03:01:39.581865Z"
        },
        "papermill": {
          "duration": 0.01716,
          "end_time": "2023-04-07T03:01:39.585113",
          "exception": false,
          "start_time": "2023-04-07T03:01:39.567953",
          "status": "completed"
        },
        "tags": [],
        "id": "d5c9328f"
      },
      "outputs": [],
      "source": [
        "import itertools"
      ]
    },
    {
      "cell_type": "code",
      "execution_count": null,
      "id": "ff0dabb9",
      "metadata": {
        "execution": {
          "iopub.execute_input": "2023-04-07T03:01:39.605492Z",
          "iopub.status.busy": "2023-04-07T03:01:39.605198Z",
          "iopub.status.idle": "2023-04-07T03:01:41.321318Z",
          "shell.execute_reply": "2023-04-07T03:01:41.320186Z"
        },
        "papermill": {
          "duration": 1.729632,
          "end_time": "2023-04-07T03:01:41.324273",
          "exception": false,
          "start_time": "2023-04-07T03:01:39.594641",
          "status": "completed"
        },
        "tags": [],
        "id": "ff0dabb9"
      },
      "outputs": [],
      "source": [
        "train_missing = set(itertools.product(train.investment_id.unique(), train.time_id.unique())) - \\\n",
        "set([tuple(l) for l in train[['investment_id', 'time_id']].values.tolist()])"
      ]
    },
    {
      "cell_type": "code",
      "execution_count": null,
      "id": "b25ed74f",
      "metadata": {
        "execution": {
          "iopub.execute_input": "2023-04-07T03:01:41.348197Z",
          "iopub.status.busy": "2023-04-07T03:01:41.347753Z",
          "iopub.status.idle": "2023-04-07T03:01:41.354845Z",
          "shell.execute_reply": "2023-04-07T03:01:41.353627Z"
        },
        "papermill": {
          "duration": 0.023449,
          "end_time": "2023-04-07T03:01:41.359105",
          "exception": false,
          "start_time": "2023-04-07T03:01:41.335656",
          "status": "completed"
        },
        "tags": [],
        "colab": {
          "base_uri": "https://localhost:8080/"
        },
        "id": "b25ed74f",
        "outputId": "556f16a0-f652-4e5c-98f8-809317194c68"
      },
      "outputs": [
        {
          "output_type": "execute_result",
          "data": {
            "text/plain": [
              "24732"
            ]
          },
          "metadata": {},
          "execution_count": 18
        }
      ],
      "source": [
        "len(train_missing)"
      ]
    },
    {
      "cell_type": "code",
      "execution_count": null,
      "id": "9d16650b",
      "metadata": {
        "execution": {
          "iopub.execute_input": "2023-04-07T03:01:41.383826Z",
          "iopub.status.busy": "2023-04-07T03:01:41.383133Z",
          "iopub.status.idle": "2023-04-07T03:01:41.447747Z",
          "shell.execute_reply": "2023-04-07T03:01:41.446798Z"
        },
        "papermill": {
          "duration": 0.079204,
          "end_time": "2023-04-07T03:01:41.450101",
          "exception": false,
          "start_time": "2023-04-07T03:01:41.370897",
          "status": "completed"
        },
        "tags": [],
        "id": "9d16650b"
      },
      "outputs": [],
      "source": [
        "miss_train = pd.DataFrame([list(l) for l in train_missing], columns=['investment_id', 'time_id'])\n",
        "miss_train['row_id'] = miss_train['time_id'].astype(str) + \"_\" + miss_train['investment_id'].astype(str)"
      ]
    },
    {
      "cell_type": "code",
      "execution_count": null,
      "id": "ef6812f3",
      "metadata": {
        "execution": {
          "iopub.execute_input": "2023-04-07T03:01:41.471692Z",
          "iopub.status.busy": "2023-04-07T03:01:41.471386Z",
          "iopub.status.idle": "2023-04-07T03:01:42.480021Z",
          "shell.execute_reply": "2023-04-07T03:01:42.479039Z"
        },
        "papermill": {
          "duration": 1.022236,
          "end_time": "2023-04-07T03:01:42.482381",
          "exception": false,
          "start_time": "2023-04-07T03:01:41.460145",
          "status": "completed"
        },
        "tags": [],
        "id": "ef6812f3"
      },
      "outputs": [],
      "source": [
        "train = pd.concat([train, miss_train], axis=0, ignore_index=True).sort_values(['time_id', 'investment_id'])"
      ]
    },
    {
      "cell_type": "code",
      "execution_count": null,
      "id": "5bfcbf71",
      "metadata": {
        "execution": {
          "iopub.execute_input": "2023-04-07T03:01:42.503814Z",
          "iopub.status.busy": "2023-04-07T03:01:42.503510Z",
          "iopub.status.idle": "2023-04-07T03:01:42.527209Z",
          "shell.execute_reply": "2023-04-07T03:01:42.526118Z"
        },
        "papermill": {
          "duration": 0.038285,
          "end_time": "2023-04-07T03:01:42.530920",
          "exception": false,
          "start_time": "2023-04-07T03:01:42.492635",
          "status": "completed"
        },
        "tags": [],
        "colab": {
          "base_uri": "https://localhost:8080/",
          "height": 300
        },
        "id": "5bfcbf71",
        "outputId": "914c6a11-2d40-48a7-e1ad-4d206f784601"
      },
      "outputs": [
        {
          "output_type": "execute_result",
          "data": {
            "text/plain": [
              "  row_id  time_id  investment_id    target       f_0       f_1       f_2  \\\n",
              "0   0_10        0             10 -0.260731 -1.863797  0.113691  1.573864   \n",
              "1   0_12        0             12 -0.469207  0.408954 -0.765238  0.261430   \n",
              "2   0_29        0             29 -0.867619 -1.342943 -2.271974  0.249359   \n",
              "3   0_31        0             31 -0.748334 -0.359627  0.239253  0.196136   \n",
              "4   0_34        0             34 -0.381478  0.669916 -0.890799  0.342481   \n",
              "\n",
              "        f_3       f_4       f_5  ...     f_290     f_291     f_292     f_293  \\\n",
              "0 -0.598433 -0.569936  0.398784  ...  0.821560  0.912726  0.476309 -1.220772   \n",
              "1 -0.591895 -0.037260  0.668721  ...  0.821560 -1.095620 -0.864354 -1.220772   \n",
              "2 -0.581436 -0.504053 -0.827677  ...  1.813485 -1.095620  0.316884 -1.220772   \n",
              "3 -0.540737 -0.260257  0.517623  ...  0.870077 -1.095620  0.831767 -1.220772   \n",
              "4 -0.594042 -0.367400 -0.236299  ... -0.170365  0.912726 -0.346847 -1.220772   \n",
              "\n",
              "      f_294     f_295     f_296     f_297     f_298     f_299  \n",
              "0  0.941183 -0.434315  1.296864  0.171329  1.051288 -0.745335  \n",
              "1 -1.060166 -0.300218  1.296864 -0.779556  0.274961 -0.182520  \n",
              "2 -1.060166 -0.483199  0.104928 -0.792373 -0.071179 -0.573232  \n",
              "3  0.941183 -0.250981 -1.087009 -1.088629 -1.584323  0.077664  \n",
              "4  0.941183 -0.356439  1.296864 -0.218136  0.793085 -0.420624  \n",
              "\n",
              "[5 rows x 304 columns]"
            ],
            "text/html": [
              "\n",
              "  <div id=\"df-579946fc-08da-4d2c-a7c7-0768f7849bb0\">\n",
              "    <div class=\"colab-df-container\">\n",
              "      <div>\n",
              "<style scoped>\n",
              "    .dataframe tbody tr th:only-of-type {\n",
              "        vertical-align: middle;\n",
              "    }\n",
              "\n",
              "    .dataframe tbody tr th {\n",
              "        vertical-align: top;\n",
              "    }\n",
              "\n",
              "    .dataframe thead th {\n",
              "        text-align: right;\n",
              "    }\n",
              "</style>\n",
              "<table border=\"1\" class=\"dataframe\">\n",
              "  <thead>\n",
              "    <tr style=\"text-align: right;\">\n",
              "      <th></th>\n",
              "      <th>row_id</th>\n",
              "      <th>time_id</th>\n",
              "      <th>investment_id</th>\n",
              "      <th>target</th>\n",
              "      <th>f_0</th>\n",
              "      <th>f_1</th>\n",
              "      <th>f_2</th>\n",
              "      <th>f_3</th>\n",
              "      <th>f_4</th>\n",
              "      <th>f_5</th>\n",
              "      <th>...</th>\n",
              "      <th>f_290</th>\n",
              "      <th>f_291</th>\n",
              "      <th>f_292</th>\n",
              "      <th>f_293</th>\n",
              "      <th>f_294</th>\n",
              "      <th>f_295</th>\n",
              "      <th>f_296</th>\n",
              "      <th>f_297</th>\n",
              "      <th>f_298</th>\n",
              "      <th>f_299</th>\n",
              "    </tr>\n",
              "  </thead>\n",
              "  <tbody>\n",
              "    <tr>\n",
              "      <th>0</th>\n",
              "      <td>0_10</td>\n",
              "      <td>0</td>\n",
              "      <td>10</td>\n",
              "      <td>-0.260731</td>\n",
              "      <td>-1.863797</td>\n",
              "      <td>0.113691</td>\n",
              "      <td>1.573864</td>\n",
              "      <td>-0.598433</td>\n",
              "      <td>-0.569936</td>\n",
              "      <td>0.398784</td>\n",
              "      <td>...</td>\n",
              "      <td>0.821560</td>\n",
              "      <td>0.912726</td>\n",
              "      <td>0.476309</td>\n",
              "      <td>-1.220772</td>\n",
              "      <td>0.941183</td>\n",
              "      <td>-0.434315</td>\n",
              "      <td>1.296864</td>\n",
              "      <td>0.171329</td>\n",
              "      <td>1.051288</td>\n",
              "      <td>-0.745335</td>\n",
              "    </tr>\n",
              "    <tr>\n",
              "      <th>1</th>\n",
              "      <td>0_12</td>\n",
              "      <td>0</td>\n",
              "      <td>12</td>\n",
              "      <td>-0.469207</td>\n",
              "      <td>0.408954</td>\n",
              "      <td>-0.765238</td>\n",
              "      <td>0.261430</td>\n",
              "      <td>-0.591895</td>\n",
              "      <td>-0.037260</td>\n",
              "      <td>0.668721</td>\n",
              "      <td>...</td>\n",
              "      <td>0.821560</td>\n",
              "      <td>-1.095620</td>\n",
              "      <td>-0.864354</td>\n",
              "      <td>-1.220772</td>\n",
              "      <td>-1.060166</td>\n",
              "      <td>-0.300218</td>\n",
              "      <td>1.296864</td>\n",
              "      <td>-0.779556</td>\n",
              "      <td>0.274961</td>\n",
              "      <td>-0.182520</td>\n",
              "    </tr>\n",
              "    <tr>\n",
              "      <th>2</th>\n",
              "      <td>0_29</td>\n",
              "      <td>0</td>\n",
              "      <td>29</td>\n",
              "      <td>-0.867619</td>\n",
              "      <td>-1.342943</td>\n",
              "      <td>-2.271974</td>\n",
              "      <td>0.249359</td>\n",
              "      <td>-0.581436</td>\n",
              "      <td>-0.504053</td>\n",
              "      <td>-0.827677</td>\n",
              "      <td>...</td>\n",
              "      <td>1.813485</td>\n",
              "      <td>-1.095620</td>\n",
              "      <td>0.316884</td>\n",
              "      <td>-1.220772</td>\n",
              "      <td>-1.060166</td>\n",
              "      <td>-0.483199</td>\n",
              "      <td>0.104928</td>\n",
              "      <td>-0.792373</td>\n",
              "      <td>-0.071179</td>\n",
              "      <td>-0.573232</td>\n",
              "    </tr>\n",
              "    <tr>\n",
              "      <th>3</th>\n",
              "      <td>0_31</td>\n",
              "      <td>0</td>\n",
              "      <td>31</td>\n",
              "      <td>-0.748334</td>\n",
              "      <td>-0.359627</td>\n",
              "      <td>0.239253</td>\n",
              "      <td>0.196136</td>\n",
              "      <td>-0.540737</td>\n",
              "      <td>-0.260257</td>\n",
              "      <td>0.517623</td>\n",
              "      <td>...</td>\n",
              "      <td>0.870077</td>\n",
              "      <td>-1.095620</td>\n",
              "      <td>0.831767</td>\n",
              "      <td>-1.220772</td>\n",
              "      <td>0.941183</td>\n",
              "      <td>-0.250981</td>\n",
              "      <td>-1.087009</td>\n",
              "      <td>-1.088629</td>\n",
              "      <td>-1.584323</td>\n",
              "      <td>0.077664</td>\n",
              "    </tr>\n",
              "    <tr>\n",
              "      <th>4</th>\n",
              "      <td>0_34</td>\n",
              "      <td>0</td>\n",
              "      <td>34</td>\n",
              "      <td>-0.381478</td>\n",
              "      <td>0.669916</td>\n",
              "      <td>-0.890799</td>\n",
              "      <td>0.342481</td>\n",
              "      <td>-0.594042</td>\n",
              "      <td>-0.367400</td>\n",
              "      <td>-0.236299</td>\n",
              "      <td>...</td>\n",
              "      <td>-0.170365</td>\n",
              "      <td>0.912726</td>\n",
              "      <td>-0.346847</td>\n",
              "      <td>-1.220772</td>\n",
              "      <td>0.941183</td>\n",
              "      <td>-0.356439</td>\n",
              "      <td>1.296864</td>\n",
              "      <td>-0.218136</td>\n",
              "      <td>0.793085</td>\n",
              "      <td>-0.420624</td>\n",
              "    </tr>\n",
              "  </tbody>\n",
              "</table>\n",
              "<p>5 rows × 304 columns</p>\n",
              "</div>\n",
              "      <button class=\"colab-df-convert\" onclick=\"convertToInteractive('df-579946fc-08da-4d2c-a7c7-0768f7849bb0')\"\n",
              "              title=\"Convert this dataframe to an interactive table.\"\n",
              "              style=\"display:none;\">\n",
              "        \n",
              "  <svg xmlns=\"http://www.w3.org/2000/svg\" height=\"24px\"viewBox=\"0 0 24 24\"\n",
              "       width=\"24px\">\n",
              "    <path d=\"M0 0h24v24H0V0z\" fill=\"none\"/>\n",
              "    <path d=\"M18.56 5.44l.94 2.06.94-2.06 2.06-.94-2.06-.94-.94-2.06-.94 2.06-2.06.94zm-11 1L8.5 8.5l.94-2.06 2.06-.94-2.06-.94L8.5 2.5l-.94 2.06-2.06.94zm10 10l.94 2.06.94-2.06 2.06-.94-2.06-.94-.94-2.06-.94 2.06-2.06.94z\"/><path d=\"M17.41 7.96l-1.37-1.37c-.4-.4-.92-.59-1.43-.59-.52 0-1.04.2-1.43.59L10.3 9.45l-7.72 7.72c-.78.78-.78 2.05 0 2.83L4 21.41c.39.39.9.59 1.41.59.51 0 1.02-.2 1.41-.59l7.78-7.78 2.81-2.81c.8-.78.8-2.07 0-2.86zM5.41 20L4 18.59l7.72-7.72 1.47 1.35L5.41 20z\"/>\n",
              "  </svg>\n",
              "      </button>\n",
              "      \n",
              "  <style>\n",
              "    .colab-df-container {\n",
              "      display:flex;\n",
              "      flex-wrap:wrap;\n",
              "      gap: 12px;\n",
              "    }\n",
              "\n",
              "    .colab-df-convert {\n",
              "      background-color: #E8F0FE;\n",
              "      border: none;\n",
              "      border-radius: 50%;\n",
              "      cursor: pointer;\n",
              "      display: none;\n",
              "      fill: #1967D2;\n",
              "      height: 32px;\n",
              "      padding: 0 0 0 0;\n",
              "      width: 32px;\n",
              "    }\n",
              "\n",
              "    .colab-df-convert:hover {\n",
              "      background-color: #E2EBFA;\n",
              "      box-shadow: 0px 1px 2px rgba(60, 64, 67, 0.3), 0px 1px 3px 1px rgba(60, 64, 67, 0.15);\n",
              "      fill: #174EA6;\n",
              "    }\n",
              "\n",
              "    [theme=dark] .colab-df-convert {\n",
              "      background-color: #3B4455;\n",
              "      fill: #D2E3FC;\n",
              "    }\n",
              "\n",
              "    [theme=dark] .colab-df-convert:hover {\n",
              "      background-color: #434B5C;\n",
              "      box-shadow: 0px 1px 3px 1px rgba(0, 0, 0, 0.15);\n",
              "      filter: drop-shadow(0px 1px 2px rgba(0, 0, 0, 0.3));\n",
              "      fill: #FFFFFF;\n",
              "    }\n",
              "  </style>\n",
              "\n",
              "      <script>\n",
              "        const buttonEl =\n",
              "          document.querySelector('#df-579946fc-08da-4d2c-a7c7-0768f7849bb0 button.colab-df-convert');\n",
              "        buttonEl.style.display =\n",
              "          google.colab.kernel.accessAllowed ? 'block' : 'none';\n",
              "\n",
              "        async function convertToInteractive(key) {\n",
              "          const element = document.querySelector('#df-579946fc-08da-4d2c-a7c7-0768f7849bb0');\n",
              "          const dataTable =\n",
              "            await google.colab.kernel.invokeFunction('convertToInteractive',\n",
              "                                                     [key], {});\n",
              "          if (!dataTable) return;\n",
              "\n",
              "          const docLinkHtml = 'Like what you see? Visit the ' +\n",
              "            '<a target=\"_blank\" href=https://colab.research.google.com/notebooks/data_table.ipynb>data table notebook</a>'\n",
              "            + ' to learn more about interactive tables.';\n",
              "          element.innerHTML = '';\n",
              "          dataTable['output_type'] = 'display_data';\n",
              "          await google.colab.output.renderOutput(dataTable, element);\n",
              "          const docLink = document.createElement('div');\n",
              "          docLink.innerHTML = docLinkHtml;\n",
              "          element.appendChild(docLink);\n",
              "        }\n",
              "      </script>\n",
              "    </div>\n",
              "  </div>\n",
              "  "
            ]
          },
          "metadata": {},
          "execution_count": 21
        }
      ],
      "source": [
        "train.head()"
      ]
    },
    {
      "cell_type": "code",
      "execution_count": null,
      "id": "0573f7f7",
      "metadata": {
        "execution": {
          "iopub.execute_input": "2023-04-07T03:01:42.554328Z",
          "iopub.status.busy": "2023-04-07T03:01:42.554016Z",
          "iopub.status.idle": "2023-04-07T03:01:42.865587Z",
          "shell.execute_reply": "2023-04-07T03:01:42.864577Z"
        },
        "papermill": {
          "duration": 0.326256,
          "end_time": "2023-04-07T03:01:42.868148",
          "exception": false,
          "start_time": "2023-04-07T03:01:42.541892",
          "status": "completed"
        },
        "tags": [],
        "id": "0573f7f7"
      },
      "outputs": [],
      "source": [
        "# Create a mask column, where 0 indicates padding samples and 1 indicates real samples\n",
        "\n",
        "train['mask'] = 1-train['f_0'].isnull().astype(int)\n",
        "train['target'] = train['target'].fillna(-1)\n",
        "train.fillna(0., inplace=True)"
      ]
    },
    {
      "cell_type": "code",
      "execution_count": null,
      "id": "efc7ab10",
      "metadata": {
        "execution": {
          "iopub.execute_input": "2023-04-07T03:01:42.890783Z",
          "iopub.status.busy": "2023-04-07T03:01:42.889912Z",
          "iopub.status.idle": "2023-04-07T03:01:42.913492Z",
          "shell.execute_reply": "2023-04-07T03:01:42.912440Z"
        },
        "papermill": {
          "duration": 0.037246,
          "end_time": "2023-04-07T03:01:42.915908",
          "exception": false,
          "start_time": "2023-04-07T03:01:42.878662",
          "status": "completed"
        },
        "tags": [],
        "colab": {
          "base_uri": "https://localhost:8080/",
          "height": 300
        },
        "id": "efc7ab10",
        "outputId": "267c3a91-98d4-4ab1-eadb-11f3eea2dbf8"
      },
      "outputs": [
        {
          "output_type": "execute_result",
          "data": {
            "text/plain": [
              "  row_id  time_id  investment_id    target       f_0       f_1       f_2  \\\n",
              "0   0_10        0             10 -0.260731 -1.863797  0.113691  1.573864   \n",
              "1   0_12        0             12 -0.469207  0.408954 -0.765238  0.261430   \n",
              "2   0_29        0             29 -0.867619 -1.342943 -2.271974  0.249359   \n",
              "3   0_31        0             31 -0.748334 -0.359627  0.239253  0.196136   \n",
              "4   0_34        0             34 -0.381478  0.669916 -0.890799  0.342481   \n",
              "\n",
              "        f_3       f_4       f_5  ...     f_291     f_292     f_293     f_294  \\\n",
              "0 -0.598433 -0.569936  0.398784  ...  0.912726  0.476309 -1.220772  0.941183   \n",
              "1 -0.591895 -0.037260  0.668721  ... -1.095620 -0.864354 -1.220772 -1.060166   \n",
              "2 -0.581436 -0.504053 -0.827677  ... -1.095620  0.316884 -1.220772 -1.060166   \n",
              "3 -0.540737 -0.260257  0.517623  ... -1.095620  0.831767 -1.220772  0.941183   \n",
              "4 -0.594042 -0.367400 -0.236299  ...  0.912726 -0.346847 -1.220772  0.941183   \n",
              "\n",
              "      f_295     f_296     f_297     f_298     f_299  mask  \n",
              "0 -0.434315  1.296864  0.171329  1.051288 -0.745335     1  \n",
              "1 -0.300218  1.296864 -0.779556  0.274961 -0.182520     1  \n",
              "2 -0.483199  0.104928 -0.792373 -0.071179 -0.573232     1  \n",
              "3 -0.250981 -1.087009 -1.088629 -1.584323  0.077664     1  \n",
              "4 -0.356439  1.296864 -0.218136  0.793085 -0.420624     1  \n",
              "\n",
              "[5 rows x 305 columns]"
            ],
            "text/html": [
              "\n",
              "  <div id=\"df-9d41108d-3658-457f-b25b-2dfde2381f08\">\n",
              "    <div class=\"colab-df-container\">\n",
              "      <div>\n",
              "<style scoped>\n",
              "    .dataframe tbody tr th:only-of-type {\n",
              "        vertical-align: middle;\n",
              "    }\n",
              "\n",
              "    .dataframe tbody tr th {\n",
              "        vertical-align: top;\n",
              "    }\n",
              "\n",
              "    .dataframe thead th {\n",
              "        text-align: right;\n",
              "    }\n",
              "</style>\n",
              "<table border=\"1\" class=\"dataframe\">\n",
              "  <thead>\n",
              "    <tr style=\"text-align: right;\">\n",
              "      <th></th>\n",
              "      <th>row_id</th>\n",
              "      <th>time_id</th>\n",
              "      <th>investment_id</th>\n",
              "      <th>target</th>\n",
              "      <th>f_0</th>\n",
              "      <th>f_1</th>\n",
              "      <th>f_2</th>\n",
              "      <th>f_3</th>\n",
              "      <th>f_4</th>\n",
              "      <th>f_5</th>\n",
              "      <th>...</th>\n",
              "      <th>f_291</th>\n",
              "      <th>f_292</th>\n",
              "      <th>f_293</th>\n",
              "      <th>f_294</th>\n",
              "      <th>f_295</th>\n",
              "      <th>f_296</th>\n",
              "      <th>f_297</th>\n",
              "      <th>f_298</th>\n",
              "      <th>f_299</th>\n",
              "      <th>mask</th>\n",
              "    </tr>\n",
              "  </thead>\n",
              "  <tbody>\n",
              "    <tr>\n",
              "      <th>0</th>\n",
              "      <td>0_10</td>\n",
              "      <td>0</td>\n",
              "      <td>10</td>\n",
              "      <td>-0.260731</td>\n",
              "      <td>-1.863797</td>\n",
              "      <td>0.113691</td>\n",
              "      <td>1.573864</td>\n",
              "      <td>-0.598433</td>\n",
              "      <td>-0.569936</td>\n",
              "      <td>0.398784</td>\n",
              "      <td>...</td>\n",
              "      <td>0.912726</td>\n",
              "      <td>0.476309</td>\n",
              "      <td>-1.220772</td>\n",
              "      <td>0.941183</td>\n",
              "      <td>-0.434315</td>\n",
              "      <td>1.296864</td>\n",
              "      <td>0.171329</td>\n",
              "      <td>1.051288</td>\n",
              "      <td>-0.745335</td>\n",
              "      <td>1</td>\n",
              "    </tr>\n",
              "    <tr>\n",
              "      <th>1</th>\n",
              "      <td>0_12</td>\n",
              "      <td>0</td>\n",
              "      <td>12</td>\n",
              "      <td>-0.469207</td>\n",
              "      <td>0.408954</td>\n",
              "      <td>-0.765238</td>\n",
              "      <td>0.261430</td>\n",
              "      <td>-0.591895</td>\n",
              "      <td>-0.037260</td>\n",
              "      <td>0.668721</td>\n",
              "      <td>...</td>\n",
              "      <td>-1.095620</td>\n",
              "      <td>-0.864354</td>\n",
              "      <td>-1.220772</td>\n",
              "      <td>-1.060166</td>\n",
              "      <td>-0.300218</td>\n",
              "      <td>1.296864</td>\n",
              "      <td>-0.779556</td>\n",
              "      <td>0.274961</td>\n",
              "      <td>-0.182520</td>\n",
              "      <td>1</td>\n",
              "    </tr>\n",
              "    <tr>\n",
              "      <th>2</th>\n",
              "      <td>0_29</td>\n",
              "      <td>0</td>\n",
              "      <td>29</td>\n",
              "      <td>-0.867619</td>\n",
              "      <td>-1.342943</td>\n",
              "      <td>-2.271974</td>\n",
              "      <td>0.249359</td>\n",
              "      <td>-0.581436</td>\n",
              "      <td>-0.504053</td>\n",
              "      <td>-0.827677</td>\n",
              "      <td>...</td>\n",
              "      <td>-1.095620</td>\n",
              "      <td>0.316884</td>\n",
              "      <td>-1.220772</td>\n",
              "      <td>-1.060166</td>\n",
              "      <td>-0.483199</td>\n",
              "      <td>0.104928</td>\n",
              "      <td>-0.792373</td>\n",
              "      <td>-0.071179</td>\n",
              "      <td>-0.573232</td>\n",
              "      <td>1</td>\n",
              "    </tr>\n",
              "    <tr>\n",
              "      <th>3</th>\n",
              "      <td>0_31</td>\n",
              "      <td>0</td>\n",
              "      <td>31</td>\n",
              "      <td>-0.748334</td>\n",
              "      <td>-0.359627</td>\n",
              "      <td>0.239253</td>\n",
              "      <td>0.196136</td>\n",
              "      <td>-0.540737</td>\n",
              "      <td>-0.260257</td>\n",
              "      <td>0.517623</td>\n",
              "      <td>...</td>\n",
              "      <td>-1.095620</td>\n",
              "      <td>0.831767</td>\n",
              "      <td>-1.220772</td>\n",
              "      <td>0.941183</td>\n",
              "      <td>-0.250981</td>\n",
              "      <td>-1.087009</td>\n",
              "      <td>-1.088629</td>\n",
              "      <td>-1.584323</td>\n",
              "      <td>0.077664</td>\n",
              "      <td>1</td>\n",
              "    </tr>\n",
              "    <tr>\n",
              "      <th>4</th>\n",
              "      <td>0_34</td>\n",
              "      <td>0</td>\n",
              "      <td>34</td>\n",
              "      <td>-0.381478</td>\n",
              "      <td>0.669916</td>\n",
              "      <td>-0.890799</td>\n",
              "      <td>0.342481</td>\n",
              "      <td>-0.594042</td>\n",
              "      <td>-0.367400</td>\n",
              "      <td>-0.236299</td>\n",
              "      <td>...</td>\n",
              "      <td>0.912726</td>\n",
              "      <td>-0.346847</td>\n",
              "      <td>-1.220772</td>\n",
              "      <td>0.941183</td>\n",
              "      <td>-0.356439</td>\n",
              "      <td>1.296864</td>\n",
              "      <td>-0.218136</td>\n",
              "      <td>0.793085</td>\n",
              "      <td>-0.420624</td>\n",
              "      <td>1</td>\n",
              "    </tr>\n",
              "  </tbody>\n",
              "</table>\n",
              "<p>5 rows × 305 columns</p>\n",
              "</div>\n",
              "      <button class=\"colab-df-convert\" onclick=\"convertToInteractive('df-9d41108d-3658-457f-b25b-2dfde2381f08')\"\n",
              "              title=\"Convert this dataframe to an interactive table.\"\n",
              "              style=\"display:none;\">\n",
              "        \n",
              "  <svg xmlns=\"http://www.w3.org/2000/svg\" height=\"24px\"viewBox=\"0 0 24 24\"\n",
              "       width=\"24px\">\n",
              "    <path d=\"M0 0h24v24H0V0z\" fill=\"none\"/>\n",
              "    <path d=\"M18.56 5.44l.94 2.06.94-2.06 2.06-.94-2.06-.94-.94-2.06-.94 2.06-2.06.94zm-11 1L8.5 8.5l.94-2.06 2.06-.94-2.06-.94L8.5 2.5l-.94 2.06-2.06.94zm10 10l.94 2.06.94-2.06 2.06-.94-2.06-.94-.94-2.06-.94 2.06-2.06.94z\"/><path d=\"M17.41 7.96l-1.37-1.37c-.4-.4-.92-.59-1.43-.59-.52 0-1.04.2-1.43.59L10.3 9.45l-7.72 7.72c-.78.78-.78 2.05 0 2.83L4 21.41c.39.39.9.59 1.41.59.51 0 1.02-.2 1.41-.59l7.78-7.78 2.81-2.81c.8-.78.8-2.07 0-2.86zM5.41 20L4 18.59l7.72-7.72 1.47 1.35L5.41 20z\"/>\n",
              "  </svg>\n",
              "      </button>\n",
              "      \n",
              "  <style>\n",
              "    .colab-df-container {\n",
              "      display:flex;\n",
              "      flex-wrap:wrap;\n",
              "      gap: 12px;\n",
              "    }\n",
              "\n",
              "    .colab-df-convert {\n",
              "      background-color: #E8F0FE;\n",
              "      border: none;\n",
              "      border-radius: 50%;\n",
              "      cursor: pointer;\n",
              "      display: none;\n",
              "      fill: #1967D2;\n",
              "      height: 32px;\n",
              "      padding: 0 0 0 0;\n",
              "      width: 32px;\n",
              "    }\n",
              "\n",
              "    .colab-df-convert:hover {\n",
              "      background-color: #E2EBFA;\n",
              "      box-shadow: 0px 1px 2px rgba(60, 64, 67, 0.3), 0px 1px 3px 1px rgba(60, 64, 67, 0.15);\n",
              "      fill: #174EA6;\n",
              "    }\n",
              "\n",
              "    [theme=dark] .colab-df-convert {\n",
              "      background-color: #3B4455;\n",
              "      fill: #D2E3FC;\n",
              "    }\n",
              "\n",
              "    [theme=dark] .colab-df-convert:hover {\n",
              "      background-color: #434B5C;\n",
              "      box-shadow: 0px 1px 3px 1px rgba(0, 0, 0, 0.15);\n",
              "      filter: drop-shadow(0px 1px 2px rgba(0, 0, 0, 0.3));\n",
              "      fill: #FFFFFF;\n",
              "    }\n",
              "  </style>\n",
              "\n",
              "      <script>\n",
              "        const buttonEl =\n",
              "          document.querySelector('#df-9d41108d-3658-457f-b25b-2dfde2381f08 button.colab-df-convert');\n",
              "        buttonEl.style.display =\n",
              "          google.colab.kernel.accessAllowed ? 'block' : 'none';\n",
              "\n",
              "        async function convertToInteractive(key) {\n",
              "          const element = document.querySelector('#df-9d41108d-3658-457f-b25b-2dfde2381f08');\n",
              "          const dataTable =\n",
              "            await google.colab.kernel.invokeFunction('convertToInteractive',\n",
              "                                                     [key], {});\n",
              "          if (!dataTable) return;\n",
              "\n",
              "          const docLinkHtml = 'Like what you see? Visit the ' +\n",
              "            '<a target=\"_blank\" href=https://colab.research.google.com/notebooks/data_table.ipynb>data table notebook</a>'\n",
              "            + ' to learn more about interactive tables.';\n",
              "          element.innerHTML = '';\n",
              "          dataTable['output_type'] = 'display_data';\n",
              "          await google.colab.output.renderOutput(dataTable, element);\n",
              "          const docLink = document.createElement('div');\n",
              "          docLink.innerHTML = docLinkHtml;\n",
              "          element.appendChild(docLink);\n",
              "        }\n",
              "      </script>\n",
              "    </div>\n",
              "  </div>\n",
              "  "
            ]
          },
          "metadata": {},
          "execution_count": 23
        }
      ],
      "source": [
        "train.head()"
      ]
    },
    {
      "cell_type": "code",
      "execution_count": null,
      "id": "a4cda153",
      "metadata": {
        "execution": {
          "iopub.execute_input": "2023-04-07T03:01:42.938276Z",
          "iopub.status.busy": "2023-04-07T03:01:42.937972Z",
          "iopub.status.idle": "2023-04-07T03:01:42.955913Z",
          "shell.execute_reply": "2023-04-07T03:01:42.955078Z"
        },
        "papermill": {
          "duration": 0.031285,
          "end_time": "2023-04-07T03:01:42.958044",
          "exception": false,
          "start_time": "2023-04-07T03:01:42.926759",
          "status": "completed"
        },
        "tags": [],
        "colab": {
          "base_uri": "https://localhost:8080/"
        },
        "id": "a4cda153",
        "outputId": "8e5be534-b79a-403f-cc16-0e6a821e21fa"
      },
      "outputs": [
        {
          "output_type": "execute_result",
          "data": {
            "text/plain": [
              "min    488\n",
              "max    488\n",
              "Name: investment_id, dtype: int64"
            ]
          },
          "metadata": {},
          "execution_count": 24
        }
      ],
      "source": [
        "#Check that the number of investment_id is consistent for each time period\n",
        "\n",
        "train.groupby('time_id')['investment_id'].count().agg(['min', 'max'])"
      ]
    },
    {
      "cell_type": "code",
      "execution_count": null,
      "id": "4f644c69",
      "metadata": {
        "execution": {
          "iopub.execute_input": "2023-04-07T03:01:42.980616Z",
          "iopub.status.busy": "2023-04-07T03:01:42.979712Z",
          "iopub.status.idle": "2023-04-07T03:01:44.085064Z",
          "shell.execute_reply": "2023-04-07T03:01:44.083973Z"
        },
        "papermill": {
          "duration": 1.118612,
          "end_time": "2023-04-07T03:01:44.087226",
          "exception": false,
          "start_time": "2023-04-07T03:01:42.968614",
          "status": "completed"
        },
        "tags": [],
        "colab": {
          "base_uri": "https://localhost:8080/"
        },
        "id": "4f644c69",
        "outputId": "447f4efa-2f8a-4b6c-d75b-c189d0409107"
      },
      "outputs": [
        {
          "output_type": "execute_result",
          "data": {
            "text/plain": [
              "56.43994140625"
            ]
          },
          "metadata": {},
          "execution_count": 25
        }
      ],
      "source": [
        "np.max(np.abs(train.iloc[:, 3:].values))"
      ]
    },
    {
      "cell_type": "markdown",
      "id": "a4d038e7",
      "metadata": {
        "papermill": {
          "duration": 0.010149,
          "end_time": "2023-04-07T03:01:44.107985",
          "exception": false,
          "start_time": "2023-04-07T03:01:44.097836",
          "status": "completed"
        },
        "tags": [],
        "id": "a4d038e7"
      },
      "source": [
        "# Building the Dataset"
      ]
    },
    {
      "cell_type": "code",
      "execution_count": null,
      "id": "aa11365a",
      "metadata": {
        "execution": {
          "iopub.execute_input": "2023-04-07T03:01:44.130651Z",
          "iopub.status.busy": "2023-04-07T03:01:44.129811Z",
          "iopub.status.idle": "2023-04-07T03:01:44.137694Z",
          "shell.execute_reply": "2023-04-07T03:01:44.136617Z"
        },
        "papermill": {
          "duration": 0.021551,
          "end_time": "2023-04-07T03:01:44.139883",
          "exception": false,
          "start_time": "2023-04-07T03:01:44.118332",
          "status": "completed"
        },
        "tags": [],
        "id": "aa11365a"
      },
      "outputs": [],
      "source": [
        "# The most important thing before modeling is to define the input data structure\n",
        "FEATURE = [f'f_{i}' for i in range(300)]\n",
        "\n",
        "class CustomDataSet(Dataset):\n",
        "    \n",
        "    def __init__(self, df):\n",
        "        self.gp = df.groupby('time_id')\n",
        "        self.time_id = df.time_id.unique()\n",
        "    \n",
        "    def __len__(self):\n",
        "        return len(self.time_id)\n",
        "    \n",
        "    def __getitem__(self, item):\n",
        "        df = self.gp.get_group(self.time_id[item])\n",
        "        feat = df[FEATURE].values\n",
        "        mask = df['mask'].values\n",
        "        if 'target' in df.columns:\n",
        "            target = df['target'].values\n",
        "            return {\"feat\": feat, \"mask\": mask}, target\n",
        "        return {\"feat\": feat, \"mask\": mask}"
      ]
    },
    {
      "cell_type": "code",
      "execution_count": null,
      "id": "d68c4c9c",
      "metadata": {
        "execution": {
          "iopub.execute_input": "2023-04-07T03:01:44.162284Z",
          "iopub.status.busy": "2023-04-07T03:01:44.161398Z",
          "iopub.status.idle": "2023-04-07T03:01:44.346877Z",
          "shell.execute_reply": "2023-04-07T03:01:44.345983Z"
        },
        "papermill": {
          "duration": 0.201942,
          "end_time": "2023-04-07T03:01:44.352114",
          "exception": false,
          "start_time": "2023-04-07T03:01:44.150172",
          "status": "completed"
        },
        "tags": [],
        "colab": {
          "base_uri": "https://localhost:8080/"
        },
        "id": "d68c4c9c",
        "outputId": "44f03a5c-7950-450f-8ed7-cfc1380040f4"
      },
      "outputs": [
        {
          "output_type": "stream",
          "name": "stdout",
          "text": [
            "({'feat': array([[-1.863797  ,  0.11369129,  1.5738639 , ...,  0.17132935,\n",
            "         1.0512877 , -0.7453346 ],\n",
            "       [ 0.4089536 , -0.7652381 ,  0.2614297 , ..., -0.7795557 ,\n",
            "         0.27496114, -0.18251964],\n",
            "       [-1.3429427 , -2.2719738 ,  0.24935897, ..., -0.7923725 ,\n",
            "        -0.07117853, -0.5732324 ],\n",
            "       ...,\n",
            "       [-0.02631418, -0.89079934, -0.02999546, ..., -0.14933178,\n",
            "        -1.8906543 , -0.5310525 ],\n",
            "       [-0.29672122,  0.11369123,  1.0313586 , ...,  1.3295879 ,\n",
            "        -0.7686633 , -0.59047115],\n",
            "       [ 0.6334183 ,  0.23925258, -1.7832236 , ...,  1.1301484 ,\n",
            "         1.2856898 ,  1.3332078 ]], dtype=float32), 'mask': array([1, 1, 1, 1, 1, 1, 1, 1, 1, 1, 1, 1, 1, 1, 1, 1, 1, 1, 1, 1, 1, 1,\n",
            "       1, 1, 1, 1, 1, 1, 1, 1, 1, 1, 1, 1, 1, 1, 1, 1, 1, 1, 1, 1, 1, 1,\n",
            "       1, 1, 1, 1, 1, 1, 1, 1, 1, 1, 1, 1, 1, 1, 1, 1, 1, 1, 1, 1, 1, 1,\n",
            "       1, 1, 1, 1, 1, 1, 1, 1, 1, 1, 1, 1, 1, 1, 1, 1, 1, 1, 1, 1, 1, 1,\n",
            "       1, 1, 1, 1, 1, 1, 1, 1, 1, 1, 1, 1, 1, 1, 1, 1, 1, 1, 1, 1, 1, 1,\n",
            "       1, 1, 1, 1, 1, 1, 1, 1, 1, 1, 1, 1, 1, 1, 1, 1, 1, 1, 1, 1, 1, 1,\n",
            "       1, 1, 1, 1, 1, 1, 1, 1, 1, 1, 1, 1, 1, 1, 1, 1, 1, 1, 1, 1, 1, 1,\n",
            "       1, 1, 1, 1, 1, 1, 1, 1, 1, 1, 1, 1, 1, 1, 1, 1, 1, 1, 1, 1, 1, 1,\n",
            "       1, 1, 1, 1, 1, 1, 1, 1, 1, 1, 1, 1, 1, 1, 1, 1, 1, 1, 1, 1, 1, 1,\n",
            "       1, 1, 1, 1, 1, 1, 1, 1, 1, 1, 1, 1, 1, 1, 1, 1, 1, 1, 1, 1, 1, 1,\n",
            "       1, 1, 1, 1, 1, 1, 1, 1, 1, 1, 1, 1, 1, 1, 1, 1, 1, 1, 1, 1, 1, 1,\n",
            "       1, 1, 1, 1, 1, 1, 1, 1, 1, 1, 1, 1, 1, 1, 1, 1, 1, 1, 1, 1, 1, 1,\n",
            "       1, 1, 1, 1, 1, 1, 1, 1, 1, 1, 1, 1, 1, 1, 1, 1, 1, 1, 1, 1, 1, 1,\n",
            "       1, 1, 1, 1, 1, 1, 1, 1, 1, 1, 1, 1, 1, 1, 1, 1, 1, 1, 1, 1, 1, 1,\n",
            "       1, 1, 1, 1, 1, 1, 1, 1, 1, 1, 1, 1, 1, 1, 1, 1, 1, 1, 1, 1, 1, 1,\n",
            "       1, 1, 1, 1, 1, 1, 1, 1, 1, 1, 1, 1, 1, 1, 1, 1, 1, 1, 1, 1, 1, 1,\n",
            "       1, 1, 1, 1, 1, 1, 1, 1, 1, 1, 1, 1, 1, 1, 1, 1, 1, 1, 1, 1, 1, 1,\n",
            "       1, 1, 1, 1, 1, 1, 1, 1, 1, 1, 1, 1, 1, 1, 1, 1, 1, 1, 1, 1, 1, 1,\n",
            "       1, 1, 1, 1, 1, 1, 1, 1, 1, 1, 1, 1, 1, 1, 1, 1, 1, 1, 1, 1, 1, 1,\n",
            "       1, 1, 1, 1, 1, 1, 1, 1, 1, 1, 1, 1, 1, 1, 1, 1, 1, 1, 1, 1, 1, 1,\n",
            "       1, 1, 1, 1, 1, 1, 1, 1, 1, 1, 1, 1, 1, 1, 1, 1, 1, 1, 1, 1, 1, 1,\n",
            "       1, 1, 1, 1, 1, 1, 1, 1, 1, 1, 1, 1, 1, 1, 1, 1, 1, 1, 1, 1, 1, 1,\n",
            "       1, 1, 1, 1])}, array([-2.60730860e-01, -4.69207000e-01, -8.67618900e-01, -7.48333600e-01,\n",
            "       -3.81478000e-01, -1.13098080e-01,  1.24601190e+00, -4.77277820e-01,\n",
            "        1.71617000e+00, -6.77279300e-01, -8.23256430e-01,  2.21135110e-02,\n",
            "       -6.68826200e-01, -8.15274500e-01, -4.57138480e-01, -2.32561110e-01,\n",
            "       -4.59943600e-01, -4.73468540e-01, -7.32902700e-01, -2.50339500e-01,\n",
            "       -9.99352400e-01, -2.91269630e-01, -8.47366600e-01, -1.30700410e+00,\n",
            "       -2.29069500e-01,  2.00629650e-01, -8.10905200e-01, -8.71549370e-01,\n",
            "       -6.75750200e-01,  1.05949770e-01,  2.62198500e+00, -3.08986100e-01,\n",
            "        3.38059500e-01,  8.14304400e-02, -1.64414200e-01, -1.57214560e+00,\n",
            "       -1.74388300e-01, -8.33642300e-03, -4.23748800e-02,  5.09931600e-01,\n",
            "       -1.82938300e-01, -7.78525100e-01,  4.28916630e-01,  1.27435400e+00,\n",
            "        3.98919020e-02,  7.42857100e-02,  2.24516580e+00, -3.37040100e-01,\n",
            "       -2.83142300e-01, -7.41188900e-01, -8.42889670e-01, -1.37294630e+00,\n",
            "       -4.61251940e-01, -1.03326430e+00,  3.02032420e+00,  2.14210300e+00,\n",
            "        2.40020730e+00, -8.15193700e-01, -6.42344400e-01, -2.35412000e-01,\n",
            "        1.15884290e+00, -4.69349680e-01,  6.87990070e-01, -9.65486200e-01,\n",
            "        2.31861100e+00, -9.27649260e-01, -1.87044510e+00, -1.49067030e+00,\n",
            "       -2.09770100e-01, -4.09968140e-01,  1.55123010e-01,  5.51217100e-01,\n",
            "       -3.88730440e-01, -3.19520150e-01,  7.90337000e-01,  6.76823440e-01,\n",
            "       -8.70022950e-01,  5.10774400e-03,  1.18578500e+00, -3.31249480e-01,\n",
            "       -2.73671600e-01,  4.94460350e-02, -4.22157800e-01,  7.70555730e-01,\n",
            "       -1.78331650e+00, -4.69750800e-01, -1.07850980e+00, -6.05029700e-01,\n",
            "        8.99212200e-02, -3.98543000e-01, -3.74309060e-01, -5.40247860e-01,\n",
            "       -4.10826880e-02, -9.72165200e-01, -4.78693840e-01, -2.83144980e-01,\n",
            "       -7.40340800e-01, -2.87796880e-01,  2.46520450e+00, -5.94821400e-01,\n",
            "        3.28817670e-02,  5.80606400e-02,  1.45226690e+00,  5.40825700e-01,\n",
            "       -2.18993100e-01,  6.03007000e-01,  1.30604490e+00, -1.61969280e+00,\n",
            "       -2.37597970e+00, -1.44611930e+00,  2.42725700e+00, -9.65690850e-01,\n",
            "       -7.64862840e-01, -5.74396500e-03, -5.02550900e-01,  4.61431380e-01,\n",
            "       -4.73632700e-02,  2.37015840e+00,  1.78506270e-01,  2.74662730e+00,\n",
            "       -1.07676270e-01,  1.97347210e+00, -1.89090750e+00, -8.29321600e-01,\n",
            "       -5.04925300e-01, -8.64100400e-01,  9.06402650e-01,  2.01614670e+00,\n",
            "       -3.57909000e-01, -4.83628400e-01, -7.58477300e-01,  2.15161410e-01,\n",
            "        1.31010460e+00,  1.34244170e+00,  1.25155760e+00, -2.46562530e-01,\n",
            "        1.27087580e+00, -1.08388850e+00, -5.54195460e-01, -3.17059600e-01,\n",
            "       -3.50392730e-01,  8.66010960e-01, -8.99328740e-02, -1.94244970e-01,\n",
            "       -4.99110430e-01,  3.12969480e-01,  4.14640640e-02, -2.53384230e-01,\n",
            "       -1.22443850e+00, -2.10352400e+00,  1.67205250e+00,  1.73859780e-01,\n",
            "        9.07344900e-01, -5.20749300e-01, -6.38702030e-01, -1.03204750e+00,\n",
            "       -1.28689980e+00, -4.21500920e-01, -2.26977770e-01, -7.43805500e-01,\n",
            "       -3.99067970e-01, -9.08880200e-01,  4.76200040e-01, -1.15826760e+00,\n",
            "       -9.64842800e-01, -1.87250970e-01, -1.46296080e+00, -4.93976680e-01,\n",
            "       -2.53860700e-01,  1.50826470e-01, -5.51551800e-01,  1.30576770e-01,\n",
            "       -1.06356620e+00,  7.44286600e-01,  5.89966650e-01,  5.35985400e-01,\n",
            "       -6.58644860e-01, -1.69596420e-01, -7.53933100e-01,  1.96898450e-01,\n",
            "       -6.80679400e-02,  1.12101940e+00,  3.85862660e-03, -6.16812900e-01,\n",
            "        2.95121100e-01, -1.64096280e+00, -6.65399200e-01, -2.52993880e-01,\n",
            "        5.22266600e-01,  3.37015000e-01, -1.17627480e+00, -1.25287740e-01,\n",
            "        6.01245120e-05, -9.06661900e-01, -2.46721360e-01,  1.60552620e+00,\n",
            "        6.01245120e-05,  1.07699610e-01,  1.82205170e-01,  3.81267100e-01,\n",
            "       -4.86455050e-01, -2.70645740e-01, -2.44729240e-01,  3.70060100e-02,\n",
            "        1.43994020e-01, -8.24543240e-01, -1.03136370e+00,  1.25842770e+00,\n",
            "       -5.21928330e-02,  7.70706500e-01,  5.01203950e-01,  3.46657960e-01,\n",
            "       -9.79506500e-01, -4.92226840e-01,  3.99842350e-01, -4.29299830e-01,\n",
            "       -8.47985740e-01, -7.21878700e-01, -1.10571850e+00,  1.37614630e+00,\n",
            "       -1.20637750e+00, -7.20745300e-01,  1.12959900e-01,  1.86210960e-01,\n",
            "       -8.74723300e-01, -2.15143460e-01,  4.15057900e-01, -4.88234500e-01,\n",
            "       -1.23881960e+00,  1.19474694e-01, -1.09988740e-02,  2.89333160e-01,\n",
            "       -7.47501730e-01, -4.79924100e-01, -3.73617200e-01, -7.77494000e-01,\n",
            "        5.95116600e-02, -7.00544100e-01, -8.55181600e-01,  1.93145720e-01,\n",
            "       -6.16064500e-01, -1.04606240e+00,  1.80175350e-01, -1.46692350e-01,\n",
            "        1.35837060e-01, -3.28409340e-01, -1.57592500e-01,  3.02411200e-01,\n",
            "       -3.03685430e-01,  1.85586400e-01,  2.91867730e+00, -3.98936060e-01,\n",
            "       -3.27041770e-01, -5.91308240e-01, -7.81594040e-01,  4.49155570e-01,\n",
            "       -8.24360200e-01, -8.12380500e-01, -2.47246310e-01, -5.51772600e-01,\n",
            "       -1.18017290e+00, -6.57274600e-01,  7.82718500e-01,  3.49333880e-01,\n",
            "        1.06985940e+00,  4.23282340e-03, -2.88892540e-01, -6.28431800e-01,\n",
            "       -4.62684120e-01, -1.94495320e-01,  2.57406070e+00, -1.32494400e-01,\n",
            "       -6.90440800e-01,  1.82700510e-01, -4.54438330e-01,  6.95280200e-01,\n",
            "       -6.33783640e-01, -5.83027500e-01, -1.46418310e+00, -6.52838050e-01,\n",
            "        6.38240750e-01, -1.47419200e-01, -1.17621290e+00, -1.39656910e+00,\n",
            "       -6.84074040e-01,  1.92628010e+00,  1.60555590e-01, -9.10710800e-01,\n",
            "        6.24516600e-01, -8.27908300e-02,  3.63698700e-01,  5.36297700e-01,\n",
            "       -1.32249430e-01, -2.80296770e-01,  2.08067000e+00, -2.99477730e-01,\n",
            "       -2.08179090e-01, -1.49317660e+00, -4.28134170e-01, -4.91572650e-01,\n",
            "       -7.59718340e-02, -9.66904940e-01, -1.14281790e+00, -2.28081510e-01,\n",
            "       -4.05943480e-01, -8.35680300e-01, -6.08537440e-01, -3.79749720e-01,\n",
            "        1.90869020e+00, -4.71724060e-01, -1.53323450e+00,  1.29125480e+00,\n",
            "       -9.84352230e-01,  6.06315620e-02, -1.16658340e+00, -8.94846500e-01,\n",
            "        1.34167980e-01, -7.23806200e-01, -9.05278200e-02, -4.48111980e-01,\n",
            "        6.41185900e-01, -3.28449730e-01, -1.34147330e-01, -7.80398800e-01,\n",
            "       -8.34724600e-01, -2.48923470e-01,  1.50934160e-01, -2.27750390e-01,\n",
            "       -7.73851700e-01,  4.59740800e-01, -2.37153770e-01, -7.05467900e-01,\n",
            "       -5.68126860e-01, -6.44716100e-01, -2.88908700e-01, -1.36607340e+00,\n",
            "       -5.39722900e-01, -4.10361170e-01, -7.27112050e-01, -2.96247270e-01,\n",
            "       -1.18240200e+00, -4.48071600e-01,  1.31901530e+00, -6.26603900e-01,\n",
            "       -2.37476810e-01,  1.21488630e+00, -8.26346930e-01, -1.09597600e+00,\n",
            "       -1.38943520e+00, -3.55658440e-01, -9.22389000e-01, -1.73777480e+00,\n",
            "        1.18757260e+00,  1.01414980e+00,  2.55001280e-02,  1.80754160e-02,\n",
            "        8.65321760e-01, -9.59709050e-01,  4.97079700e-01,  3.67825660e-02,\n",
            "        4.00073900e-01, -8.54363200e-01, -9.23403860e-01,  9.29901750e-02,\n",
            "       -1.19611800e+00, -3.22572950e-01, -1.68978070e+00, -3.34310350e-01,\n",
            "       -5.70062460e-01, -3.55276170e-01,  9.08906300e-01, -8.53003740e-01,\n",
            "        1.64912690e+00,  1.71051670e+00, -7.24298830e-01, -7.81957450e-01,\n",
            "        4.78138330e-01, -8.60482300e-02, -3.53954370e-01, -5.91200600e-01,\n",
            "       -5.53605900e-01, -5.54300400e-01,  1.12588400e-01, -2.45100740e-01,\n",
            "        2.92582500e-02, -1.07121430e+00, -1.08301640e+00,  9.10816660e-04,\n",
            "       -3.03445850e-01, -1.63682250e+00, -3.96884700e-01, -4.41914860e-01,\n",
            "       -2.92435300e-01, -5.18775940e-01, -1.34072220e+00, -5.31767850e-01,\n",
            "       -7.47383300e-01, -1.02327130e-01, -8.48917200e-01, -1.65041470e+00,\n",
            "       -1.45634910e+00, -1.62874890e+00, -7.16456850e-02, -8.45842840e-01,\n",
            "       -9.05587800e-01, -6.16365930e-02,  5.90378600e-02,  1.10050050e+00,\n",
            "        2.75302100e-01, -9.31606600e-01, -3.95425620e-01, -1.20232050e-01,\n",
            "        2.42733540e-01, -5.75400800e-01, -9.67647970e-01, -9.21853240e-01,\n",
            "        4.24356280e-01, -4.55464000e-01,  3.05722450e-01, -1.48065850e+00,\n",
            "       -9.10729650e-01,  7.32896500e-02, -8.03146700e-01,  1.34466530e+00,\n",
            "        8.22811350e-02, -5.38635300e-01,  1.42758610e+00, -4.39392400e-01,\n",
            "       -2.59382130e-01,  1.20789230e+00, -5.02330100e-02,  1.01873990e-01,\n",
            "        1.92725750e-01, -4.49950670e-01, -2.72172120e-01,  1.33976570e+00,\n",
            "       -5.84467700e-01, -4.19433410e-01,  2.47086600e-02, -1.26629470e+00,\n",
            "       -1.91616180e+00, -1.03706550e+00,  2.61381470e-02, -2.45631070e-01,\n",
            "        8.31880900e-01,  3.27528150e-01, -1.07666040e+00, -2.34431300e+00,\n",
            "       -7.87034700e-01, -3.46467970e+00,  1.36122420e-01,  6.82482100e-01,\n",
            "        2.13400800e-01,  7.48954600e-01, -1.07471410e+00,  2.10198570e+00,\n",
            "        6.29039300e-01, -1.12333000e+00, -1.00168370e+00,  1.59694140e-01,\n",
            "       -2.51634400e-01,  1.86074460e+00, -1.89054650e-02, -2.95945730e-01,\n",
            "        1.52504960e+00, -1.26953600e+00, -1.45518600e-01, -9.24464600e-01,\n",
            "        2.10374920e-01, -3.17541480e-01, -8.62145960e-01, -9.23600440e-01,\n",
            "       -1.12966720e+00, -2.26439360e-01, -7.95030100e-01,  2.10787600e+00,\n",
            "        1.53623250e+00, -4.40175770e-01, -2.32701100e+00,  2.17298910e-01,\n",
            "       -9.68735600e-01, -4.85703970e-01, -1.30515740e-01,  8.03022000e-01,\n",
            "       -1.10964080e+00,  8.87367100e-02, -1.46573880e-02,  4.06620980e-01]))\n"
          ]
        },
        {
          "output_type": "execute_result",
          "data": {
            "text/plain": [
              "0"
            ]
          },
          "metadata": {},
          "execution_count": 27
        }
      ],
      "source": [
        "# Check\n",
        "train_ds = CustomDataSet(train)\n",
        "print(train_ds[0])\n",
        "\n",
        "del train_ds\n",
        "import gc\n",
        "gc.collect()"
      ]
    },
    {
      "cell_type": "markdown",
      "id": "b79c9304",
      "metadata": {
        "papermill": {
          "duration": 0.010568,
          "end_time": "2023-04-07T03:01:44.373689",
          "exception": false,
          "start_time": "2023-04-07T03:01:44.363121",
          "status": "completed"
        },
        "tags": [],
        "id": "b79c9304"
      },
      "source": [
        "# Model\n",
        "Since the investment_ids at the same time have no order meaning, we do not need to construct Position Embedding. However, it is important to note that we have filled in missing data, so we need to use Mask information when calculating Self-Attention to avoid the impact of filling data on our model. Additionally, we should not process the Label in the filling data when calculating Loss."
      ]
    },
    {
      "cell_type": "code",
      "execution_count": null,
      "id": "fa4469bc",
      "metadata": {
        "execution": {
          "iopub.execute_input": "2023-04-07T03:01:44.397561Z",
          "iopub.status.busy": "2023-04-07T03:01:44.395986Z",
          "iopub.status.idle": "2023-04-07T03:01:44.405257Z",
          "shell.execute_reply": "2023-04-07T03:01:44.404378Z"
        },
        "papermill": {
          "duration": 0.022875,
          "end_time": "2023-04-07T03:01:44.407227",
          "exception": false,
          "start_time": "2023-04-07T03:01:44.384352",
          "status": "completed"
        },
        "tags": [],
        "id": "fa4469bc"
      },
      "outputs": [],
      "source": [
        "class FinanceFormerModel(nn.Module):\n",
        "    \n",
        "    def __init__(self, input_size, num_layers, d_model, ffn_size, n_head):\n",
        "        super().__init__()\n",
        "        self.input_fc = nn.Linear(input_size, d_model)\n",
        "        self.transformers = nn.Sequential(*[\n",
        "            nn.TransformerEncoderLayer(d_model, n_head, ffn_size, batch_first=True) for i in range(num_layers)])\n",
        "        self.head = nn.Sequential(\n",
        "            nn.Linear(d_model, d_model//2),\n",
        "            nn.GELU(),\n",
        "            nn.Linear(d_model//2, 1)\n",
        "        )\n",
        "        self.loss_fn = nn.MSELoss(reduce=False)\n",
        "        \n",
        "    def forward(self, feat, mask, label=None):\n",
        "        feat = self.input_fc(feat.float())\n",
        "        for layer in self.transformers:\n",
        "            #Add residual connection.\n",
        "            feat = layer(feat, src_key_padding_mask=mask.float()) * 0.9 + feat * 0.1  # residual connect\n",
        "        pred = self.head(feat).squeeze()\n",
        "        \n",
        "        if label is not None:\n",
        "            loss = self.loss_fn(label.float(), pred)\n",
        "            loss = (loss * mask) / torch.sum(mask)\n",
        "            return pred, loss\n",
        "        return pred"
      ]
    },
    {
      "cell_type": "markdown",
      "id": "16594e06",
      "metadata": {
        "papermill": {
          "duration": 0.010463,
          "end_time": "2023-04-07T03:01:44.428631",
          "exception": false,
          "start_time": "2023-04-07T03:01:44.418168",
          "status": "completed"
        },
        "tags": [],
        "id": "16594e06"
      },
      "source": [
        "# Training"
      ]
    },
    {
      "cell_type": "code",
      "execution_count": null,
      "id": "608c683f",
      "metadata": {
        "execution": {
          "iopub.execute_input": "2023-04-07T03:01:44.451743Z",
          "iopub.status.busy": "2023-04-07T03:01:44.451440Z",
          "iopub.status.idle": "2023-04-07T03:01:44.487129Z",
          "shell.execute_reply": "2023-04-07T03:01:44.486111Z"
        },
        "papermill": {
          "duration": 0.0498,
          "end_time": "2023-04-07T03:01:44.489075",
          "exception": false,
          "start_time": "2023-04-07T03:01:44.439275",
          "status": "completed"
        },
        "tags": [],
        "id": "608c683f"
      },
      "outputs": [],
      "source": [
        "import gc\n",
        "from pathlib import Path\n",
        "\n",
        "import numpy as np\n",
        "import torch\n",
        "from torch.utils.data import DataLoader\n",
        "from tqdm import tqdm\n",
        "import random\n",
        "\n",
        "def seed_everything(seed):\n",
        "    torch.manual_seed(seed)\n",
        "    torch.cuda.manual_seed(seed)\n",
        "    torch.backends.cudnn.deterministic = True\n",
        "    torch.backends.cudnn.benchmark = False\n",
        "    random.seed(seed)\n",
        "    os.environ['PYTHONHASHSEED'] = str(seed)\n",
        "    np.random.seed(seed)\n",
        "\n",
        "\n",
        "class AverageMeter(object):\n",
        "    val = 0\n",
        "    avg = 0\n",
        "    sum = 0\n",
        "    count = 0\n",
        "    best = None\n",
        "\n",
        "    \"\"\"Computes and stores the average and current value\"\"\"\n",
        "    def __init__(self, larger_is_better=False):\n",
        "        self.larger_is_better = larger_is_better\n",
        "        self.reset()\n",
        "\n",
        "    def reset(self):\n",
        "        self.val = 0\n",
        "        self.avg = 0\n",
        "        self.sum = 0\n",
        "        self.count = 0\n",
        "        if self.larger_is_better:\n",
        "            self.best = -np.inf\n",
        "        else:\n",
        "            self.best = np.inf\n",
        "\n",
        "    def update(self, val, n=1):\n",
        "        self.val = val\n",
        "        self.sum += val * n\n",
        "        self.count += n\n",
        "        self.avg = self.sum / self.count\n",
        "        if self.larger_is_better and (val > self.best):\n",
        "            self.best = val\n",
        "            return True\n",
        "        elif (not self.larger_is_better) and (val < self.best):\n",
        "            self.best = val\n",
        "            return True\n",
        "        else:\n",
        "            return False\n",
        "\n",
        "\n",
        "def to_device(d, device):\n",
        "    if isinstance(d, dict):\n",
        "        return {k: to_device(v, device) for k, v in d.items()}\n",
        "    elif isinstance(d, torch.Tensor):\n",
        "        return d.to(device)\n",
        "    elif isinstance(d, list):\n",
        "        return [to_device(i, device) for i in d]\n",
        "    else:\n",
        "        raise ValueError\n",
        "\n",
        "\n",
        "class TrainerConfig:\n",
        "    max_epochs = 8\n",
        "    batch_size = 32\n",
        "    grad_norm_clip = None\n",
        "    # Data Loader\n",
        "    num_workers = 8\n",
        "    collate_fn = None\n",
        "    # Device\n",
        "    device = \"cpu\"\n",
        "    gpu_ids = None\n",
        "    save_last = False\n",
        "    # random\n",
        "    seed = 42\n",
        "\n",
        "    def __init__(self, save_path, **kwargs):\n",
        "        self.save_path = save_path\n",
        "        for k, v in kwargs.items():\n",
        "            setattr(self, k, v)\n",
        "\n",
        "\n",
        "class Trainer:\n",
        "\n",
        "    def __init__(self, train_config, model, optimizer, train_dataset,\n",
        "                 test_dataset=None, metric_fn=None, metric_larger_better=True, lr_scheduler=None, collate_fn=None):\n",
        "        seed_everything(train_config.seed)\n",
        "        self.model = model\n",
        "        self.optimizer = optimizer\n",
        "        self.lr_scheduler = lr_scheduler\n",
        "        self.train_dataset = train_dataset\n",
        "        self.test_dataset = test_dataset\n",
        "        self.config = train_config\n",
        "        self.metric_fn = metric_fn\n",
        "        self.metric_larger_better = metric_larger_better\n",
        "        self.collate_fn = collate_fn\n",
        "        # take over whatever gpus are on the system\n",
        "        self.device = self.config.device\n",
        "        if self.config.gpu_ids is not None:\n",
        "            self.model = torch.nn.DataParallel(self.model, device_ids=self.config.gpu_ids).to(self.device)\n",
        "        else:\n",
        "            self.model.to(self.device)\n",
        "    def save_checkpoint(self, oof, last=False):\n",
        "        # DataParallel wrappers keep raw model object in .module attribute\n",
        "        Path(self.config.save_path).parent.mkdir(parents=True, exist_ok=True)\n",
        "        raw_model = self.model.module if hasattr(self.model, \"module\") else self.model\n",
        "        save_path = self.config.save_path\n",
        "        if last:\n",
        "            save_path = self.config.save_path + \".last\"\n",
        "        print(f\"saved in {save_path}\")\n",
        "        torch.save({'checkpoint': raw_model.state_dict(), 'oof': oof}, save_path)\n",
        "\n",
        "    @torch.no_grad()\n",
        "    def valid_epoch(self, loader):\n",
        "        model, config = self.model, self.config\n",
        "        model.eval()\n",
        "        losses = AverageMeter()\n",
        "        pbar = enumerate(loader)\n",
        "        score = None\n",
        "        preds, labels = [], []\n",
        "        for it, (x, y) in pbar:\n",
        "            x = to_device(x, self.device)\n",
        "            y = to_device(y, self.device)\n",
        "            # forward the model\n",
        "            logit, loss = model(**x, label=y)\n",
        "            loss = loss.mean()  # collapse all losses if they are scattered on multiple gpus\n",
        "            losses.update(loss.item())\n",
        "            preds.append(logit.cpu().numpy())\n",
        "            labels.append(y.cpu().numpy())\n",
        "            del x; del y; gc.collect()\n",
        "        preds = np.concatenate(preds, axis=0)\n",
        "        labels = np.concatenate(labels, axis=0)\n",
        "        if self.metric_fn is not None:\n",
        "            score = self.metric_fn(labels, preds)\n",
        "        return losses.avg, preds, score\n",
        "\n",
        "    def train_epoch(self, loader, num_epoch):\n",
        "        model, optimizer, lr_scheduler, config = self.model, self.optimizer, self.lr_scheduler, self.config\n",
        "        model.train()\n",
        "        score = None\n",
        "        losses = AverageMeter()\n",
        "        pbar = tqdm(enumerate(loader), total=len(loader))\n",
        "        preds = []\n",
        "        labels = []\n",
        "\n",
        "        for it, (x, y) in pbar:\n",
        "            # place data on the correct device\n",
        "            x = to_device(x, self.device)\n",
        "            y = to_device(y, self.device)\n",
        "\n",
        "            # forward the model\n",
        "            logit, loss = model(**x, label=y)\n",
        "            loss = loss.mean()  # collapse all losses if they are scattered on multiple gpus\n",
        "\n",
        "            # backprop and update the parameters\n",
        "            model.zero_grad()\n",
        "            loss.backward()\n",
        "            if self.config.grad_norm_clip is not None:\n",
        "                torch.nn.utils.clip_grad_norm_(model.parameters(), config.grad_norm_clip)\n",
        "            optimizer.step()\n",
        "\n",
        "            # record\n",
        "            loss = loss.item()\n",
        "            losses.update(loss)\n",
        "\n",
        "            preds.append(logit.detach().cpu().numpy())\n",
        "            labels.append(y.cpu().numpy())\n",
        "\n",
        "            # decay the learning rate based on our progress\n",
        "            if lr_scheduler is not None:\n",
        "                lr_scheduler.step(num_epoch+it/len(loader))\n",
        "            lr = []\n",
        "            for param_group in optimizer.param_groups:\n",
        "                lr.append(param_group['lr'])\n",
        "            lr = np.mean(lr)\n",
        "\n",
        "            # report progress\n",
        "            pbar.set_description(f\"train loss {loss:.4f} lr {lr:.6f}\")\n",
        "\n",
        "        labels = np.concatenate(labels, axis=0)\n",
        "        preds = np.concatenate(preds, axis=0)\n",
        "        if self.metric_fn is not None:\n",
        "            score = self.metric_fn(labels, preds)\n",
        "        return losses.avg, score\n",
        "\n",
        "    def fit(self):\n",
        "        config = self.config\n",
        "        scores = AverageMeter(self.metric_larger_better)\n",
        "\n",
        "        train_loader = DataLoader(\n",
        "            self.train_dataset,\n",
        "            shuffle=True,\n",
        "            pin_memory=True,\n",
        "            batch_size=config.batch_size,\n",
        "            num_workers=config.num_workers,\n",
        "            collate_fn=self.collate_fn\n",
        "        )\n",
        "\n",
        "        if self.test_dataset is not None:\n",
        "            test_loader = DataLoader(\n",
        "                self.test_dataset,\n",
        "                shuffle=True,\n",
        "                pin_memory=True,\n",
        "                batch_size=config.batch_size,\n",
        "                num_workers=config.num_workers,\n",
        "                collate_fn=self.collate_fn\n",
        "            )\n",
        "\n",
        "        for epoch in range(config.max_epochs):\n",
        "            trn_loss, trn_score = self.train_epoch(train_loader, epoch)\n",
        "            info = f\"Epoch {epoch + 1} train loss {trn_loss:.4f}\"\n",
        "            if self.metric_fn is not None:\n",
        "                info += f\" score {trn_score:.4f}\"\n",
        "            if self.test_dataset is not None:\n",
        "                val_loss, val_preds, val_score = self.valid_epoch(test_loader)\n",
        "                info += f\" val loss {val_loss:.4f}\"\n",
        "                if self.metric_fn is not None:\n",
        "                    info += f\" score {val_score: .4f}\"\n",
        "                good_model = scores.update(val_score)\n",
        "                if good_model:\n",
        "                    self.save_checkpoint(val_preds, False)\n",
        "            print(info)\n",
        "            # supports early stopping based on the test loss, or just save always if no test set is provided\n",
        "        if self.config.save_last:\n",
        "            self.save_checkpoint(None if self.test_dataset is None else val_preds, True)\n",
        "\n",
        "    @torch.no_grad()\n",
        "    def predict(self, dataset):\n",
        "        self.model.eval()\n",
        "        loader = DataLoader(\n",
        "            dataset,\n",
        "            shuffle=True,\n",
        "            pin_memory=True,\n",
        "            batch_size=self.config.batch_size,\n",
        "            num_workers=self.config.num_workers,\n",
        "            collate_fn=self.collate_fn\n",
        "        )\n",
        "        preds = []\n",
        "        for x in loader:\n",
        "            x = to_device(x, self.device)\n",
        "            logit = self.model(**x)\n",
        "            preds.append(logit.cpu().numpy())\n",
        "        preds = np.concatenate(preds, axis=0)\n",
        "        return preds\n"
      ]
    },
    {
      "cell_type": "markdown",
      "id": "bda31c46",
      "metadata": {
        "papermill": {
          "duration": 0.010538,
          "end_time": "2023-04-07T03:01:44.510391",
          "exception": false,
          "start_time": "2023-04-07T03:01:44.499853",
          "status": "completed"
        },
        "tags": [],
        "id": "bda31c46"
      },
      "source": [
        "# Data splitting"
      ]
    },
    {
      "cell_type": "code",
      "execution_count": null,
      "id": "165bfff4",
      "metadata": {
        "execution": {
          "iopub.execute_input": "2023-04-07T03:01:44.535716Z",
          "iopub.status.busy": "2023-04-07T03:01:44.535353Z",
          "iopub.status.idle": "2023-04-07T03:01:45.228645Z",
          "shell.execute_reply": "2023-04-07T03:01:45.227666Z"
        },
        "papermill": {
          "duration": 0.709911,
          "end_time": "2023-04-07T03:01:45.231079",
          "exception": false,
          "start_time": "2023-04-07T03:01:44.521168",
          "status": "completed"
        },
        "tags": [],
        "id": "165bfff4"
      },
      "outputs": [],
      "source": [
        "# Select the last 100 time_id as the validation set.\n",
        "time_ids = train.time_id.unique()\n",
        "train_time_ids = time_ids[:-100]\n",
        "val_time_ids = time_ids[-100:]\n",
        "\n",
        "train_ds = CustomDataSet(train[train.time_id.isin(train_time_ids)])\n",
        "val_ds = CustomDataSet(train[train.time_id.isin(val_time_ids)])"
      ]
    },
    {
      "cell_type": "markdown",
      "id": "579803bf",
      "metadata": {
        "papermill": {
          "duration": 0.010881,
          "end_time": "2023-04-07T03:01:45.253229",
          "exception": false,
          "start_time": "2023-04-07T03:01:45.242348",
          "status": "completed"
        },
        "tags": [],
        "id": "579803bf"
      },
      "source": [
        "# Evaluation function"
      ]
    },
    {
      "cell_type": "code",
      "execution_count": null,
      "id": "78307a80",
      "metadata": {
        "execution": {
          "iopub.execute_input": "2023-04-07T03:01:45.276099Z",
          "iopub.status.busy": "2023-04-07T03:01:45.275749Z",
          "iopub.status.idle": "2023-04-07T03:01:45.896973Z",
          "shell.execute_reply": "2023-04-07T03:01:45.896016Z"
        },
        "papermill": {
          "duration": 0.6355,
          "end_time": "2023-04-07T03:01:45.899377",
          "exception": false,
          "start_time": "2023-04-07T03:01:45.263877",
          "status": "completed"
        },
        "tags": [],
        "id": "78307a80"
      },
      "outputs": [],
      "source": [
        "from scipy import stats\n",
        "def pearson_score(labels, preds):\n",
        "    # Check for NaN and Inf values in preds\n",
        "    if np.isnan(preds).any() or np.isinf(preds).any():\n",
        "        # Replace NaN and Inf values with 0\n",
        "        preds = np.nan_to_num(preds)\n",
        "        \n",
        "    # For each sample (the return of each investment product under a certain time_id), calculate the current time_id Pearson score and then calculate the average.\n",
        "    return np.mean([stats.pearsonr(l, p)[0] for l, p in zip(labels, preds)])\n"
      ]
    },
    {
      "cell_type": "markdown",
      "id": "a8b1ec41",
      "metadata": {
        "papermill": {
          "duration": 0.011586,
          "end_time": "2023-04-07T03:01:45.923001",
          "exception": false,
          "start_time": "2023-04-07T03:01:45.911415",
          "status": "completed"
        },
        "tags": [],
        "id": "a8b1ec41"
      },
      "source": [
        "# Model"
      ]
    },
    {
      "cell_type": "code",
      "execution_count": null,
      "id": "821a8698",
      "metadata": {
        "execution": {
          "iopub.execute_input": "2023-04-07T03:01:45.947172Z",
          "iopub.status.busy": "2023-04-07T03:01:45.946225Z",
          "iopub.status.idle": "2023-04-07T03:03:19.083816Z",
          "shell.execute_reply": "2023-04-07T03:03:19.082805Z"
        },
        "papermill": {
          "duration": 93.152129,
          "end_time": "2023-04-07T03:03:19.086021",
          "exception": false,
          "start_time": "2023-04-07T03:01:45.933892",
          "status": "completed"
        },
        "tags": [],
        "id": "821a8698"
      },
      "outputs": [],
      "source": [
        "model = FinanceFormerModel(input_size=300, num_layers=3, d_model=512, ffn_size=1024, n_head=8)\n",
        "optimizer = torch.optim.Adam(model.parameters(), lr=0.0001)\n",
        "\n",
        "config = TrainerConfig(save_path=\"./test_model.bin\", batch_size=32, max_epochs=10)\n",
        "trainer = Trainer(config, model, optimizer, train_dataset=train_ds, test_dataset=val_ds, \n",
        "                  metric_fn=pearson_score, metric_larger_better=True)\n",
        "trainer.fit()"
      ]
    },
    {
      "cell_type": "markdown",
      "id": "ea4ced4b",
      "metadata": {
        "papermill": {
          "duration": 0.04654,
          "end_time": "2023-04-07T03:03:19.179771",
          "exception": false,
          "start_time": "2023-04-07T03:03:19.133231",
          "status": "completed"
        },
        "tags": [],
        "id": "ea4ced4b"
      },
      "source": [
        "# Summary of Modeling Ideas:\n",
        "\n",
        "Why Transformer: Utilize the Self-Attention feature to consider all pairwise combinations of any investment products in the model, making the overall ranking more stable.\n",
        "\n",
        "\n",
        "There is no order relationship between investment products, so Position Embedding is not added here.\n",
        "\n",
        "\n",
        "Residual connections are added between Transformer Blocks to improve model convergence speed and accuracy.\n",
        "\n",
        "\n",
        "Fill in the missing trading data for some investment products, and use Mask Attention on the filled data so that we can batch process the data and avoid interference from the filled data on the model's performance.\n",
        "\n",
        "\n",
        "\n",
        "# Optimization Ideas:\n",
        "\n",
        "Try different model structures or training parameters.\n",
        "\n",
        "\n",
        "Try using RNN/LSTM or other sequence models to encode each investment_id sequence and then input it to Investment-Wise-Transformer.\n",
        "\n",
        "\n",
        "Use other machine learning or deep learning models for modeling and model fusion."
      ]
    }
  ],
  "metadata": {
    "kernelspec": {
      "display_name": "Python 3",
      "language": "python",
      "name": "python3"
    },
    "language_info": {
      "codemirror_mode": {
        "name": "ipython",
        "version": 3
      },
      "file_extension": ".py",
      "mimetype": "text/x-python",
      "name": "python",
      "nbconvert_exporter": "python",
      "pygments_lexer": "ipython3",
      "version": "3.7.12"
    },
    "papermill": {
      "default_parameters": {},
      "duration": 127.314685,
      "end_time": "2023-04-07T03:03:20.751462",
      "environment_variables": {},
      "exception": null,
      "input_path": "__notebook__.ipynb",
      "output_path": "__notebook__.ipynb",
      "parameters": {},
      "start_time": "2023-04-07T03:01:13.436777",
      "version": "2.3.4"
    },
    "colab": {
      "provenance": [],
      "gpuType": "T4"
    },
    "accelerator": "GPU",
    "gpuClass": "standard"
  },
  "nbformat": 4,
  "nbformat_minor": 5
}